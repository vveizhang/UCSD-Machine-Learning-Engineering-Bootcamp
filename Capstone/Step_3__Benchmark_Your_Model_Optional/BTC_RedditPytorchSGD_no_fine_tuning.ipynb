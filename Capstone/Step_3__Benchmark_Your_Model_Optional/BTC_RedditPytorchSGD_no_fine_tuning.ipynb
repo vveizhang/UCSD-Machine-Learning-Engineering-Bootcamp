{
 "cells": [
  {
   "attachments": {},
   "cell_type": "markdown",
   "id": "280b10ec",
   "metadata": {},
   "source": [
    "To benchmark the bert model on the manually labeled data, I used the pretrained model to do the prediction directly (without fine tuning it).\n",
    "I got only 0.43 accurary."
   ]
  },
  {
   "cell_type": "code",
   "execution_count": null,
   "id": "566e0d58",
   "metadata": {},
   "outputs": [],
   "source": [
    "import transformers\n",
    "from transformers import BertModel, BertTokenizer, AdamW, get_linear_schedule_with_warmup\n",
    "import torch\n",
    "import numpy as np\n",
    "import pandas as pd\n",
    "import seaborn as sns\n",
    "from pylab import rcParams\n",
    "import matplotlib.pyplot as plt\n",
    "from matplotlib import rc\n",
    "from sklearn.model_selection import train_test_split\n",
    "from sklearn.metrics import confusion_matrix, classification_report\n",
    "from collections import defaultdict\n",
    "from textwrap import wrap\n",
    "from torch import nn, optim\n",
    "from torch.utils.data import Dataset, DataLoader\n",
    "%matplotlib inline\n",
    "%config InlineBackend.figure_format='retina'\n",
    "sns.set(style='whitegrid', palette='muted', font_scale=1.2)\n",
    "HAPPY_COLORS_PALETTE = [\"#01BEFE\", \"#FFDD00\", \"#FF7D00\", \"#FF006D\", \"#ADFF02\", \"#8F00FF\"]\n",
    "sns.set_palette(sns.color_palette(HAPPY_COLORS_PALETTE))\n",
    "rcParams['figure.figsize'] = 12, 8\n",
    "RANDOM_SEED = 42\n",
    "np.random.seed(RANDOM_SEED)\n",
    "torch.manual_seed(RANDOM_SEED)\n",
    "device = torch.device(\"cuda:0\" if torch.cuda.is_available() else \"cpu\")"
   ]
  },
  {
   "cell_type": "code",
   "execution_count": 2,
   "id": "48dddc07-14b2-486e-a382-76c999d3656a",
   "metadata": {
    "execution": {
     "iopub.execute_input": "2022-10-18T19:34:25.668058Z",
     "iopub.status.busy": "2022-10-18T19:34:25.667438Z",
     "iopub.status.idle": "2022-10-18T19:34:25.702925Z",
     "shell.execute_reply": "2022-10-18T19:34:25.701937Z",
     "shell.execute_reply.started": "2022-10-18T19:34:25.668031Z"
    }
   },
   "outputs": [
    {
     "data": {
      "text/html": [
       "<div>\n",
       "<style scoped>\n",
       "    .dataframe tbody tr th:only-of-type {\n",
       "        vertical-align: middle;\n",
       "    }\n",
       "\n",
       "    .dataframe tbody tr th {\n",
       "        vertical-align: top;\n",
       "    }\n",
       "\n",
       "    .dataframe thead th {\n",
       "        text-align: right;\n",
       "    }\n",
       "</style>\n",
       "<table border=\"1\" class=\"dataframe\">\n",
       "  <thead>\n",
       "    <tr style=\"text-align: right;\">\n",
       "      <th></th>\n",
       "      <th>body</th>\n",
       "      <th>label</th>\n",
       "    </tr>\n",
       "  </thead>\n",
       "  <tbody>\n",
       "    <tr>\n",
       "      <th>0</th>\n",
       "      <td>it may be considered currency and creating you...</td>\n",
       "      <td>Negative</td>\n",
       "    </tr>\n",
       "    <tr>\n",
       "      <th>1</th>\n",
       "      <td>You can get hold of it on [Silk Road](http://g...</td>\n",
       "      <td>Negative</td>\n",
       "    </tr>\n",
       "    <tr>\n",
       "      <th>2</th>\n",
       "      <td>They buy bitcoin with any dollars you have, an...</td>\n",
       "      <td>Negative</td>\n",
       "    </tr>\n",
       "    <tr>\n",
       "      <th>3</th>\n",
       "      <td>Am I the only person that thinks TSR is a hone...</td>\n",
       "      <td>Negative</td>\n",
       "    </tr>\n",
       "    <tr>\n",
       "      <th>4</th>\n",
       "      <td>Why Man, what are you doing that could need th...</td>\n",
       "      <td>Negative</td>\n",
       "    </tr>\n",
       "  </tbody>\n",
       "</table>\n",
       "</div>"
      ],
      "text/plain": [
       "                                                body     label\n",
       "0  it may be considered currency and creating you...  Negative\n",
       "1  You can get hold of it on [Silk Road](http://g...  Negative\n",
       "2  They buy bitcoin with any dollars you have, an...  Negative\n",
       "3  Am I the only person that thinks TSR is a hone...  Negative\n",
       "4  Why Man, what are you doing that could need th...  Negative"
      ]
     },
     "execution_count": 2,
     "metadata": {},
     "output_type": "execute_result"
    }
   ],
   "source": [
    "df = pd.read_csv(\"/notebooks/reddit_bitcoin_labelled.csv\",encoding=\"ISO-8859-1\")\n",
    "df.head()"
   ]
  },
  {
   "cell_type": "code",
   "execution_count": 3,
   "id": "7c01e7d5-d5ad-46d4-b0a8-fa50fb87410c",
   "metadata": {
    "execution": {
     "iopub.execute_input": "2022-10-18T19:34:29.885339Z",
     "iopub.status.busy": "2022-10-18T19:34:29.884986Z",
     "iopub.status.idle": "2022-10-18T19:34:29.898403Z",
     "shell.execute_reply": "2022-10-18T19:34:29.897554Z",
     "shell.execute_reply.started": "2022-10-18T19:34:29.885314Z"
    }
   },
   "outputs": [
    {
     "data": {
      "text/plain": [
       "Positive    1504\n",
       "Neutral     1049\n",
       "Negative     826\n",
       "Name: label, dtype: int64"
      ]
     },
     "execution_count": 3,
     "metadata": {},
     "output_type": "execute_result"
    }
   ],
   "source": [
    "df.label.value_counts()"
   ]
  },
  {
   "cell_type": "code",
   "execution_count": 4,
   "id": "6f247fdc-8a26-48ac-a38c-f6b1d710ec94",
   "metadata": {
    "execution": {
     "iopub.execute_input": "2022-10-18T19:34:34.092756Z",
     "iopub.status.busy": "2022-10-18T19:34:34.092371Z",
     "iopub.status.idle": "2022-10-18T19:34:34.104260Z",
     "shell.execute_reply": "2022-10-18T19:34:34.102919Z",
     "shell.execute_reply.started": "2022-10-18T19:34:34.092731Z"
    }
   },
   "outputs": [
    {
     "data": {
      "text/plain": [
       "2    1504\n",
       "1    1049\n",
       "0     826\n",
       "Name: sentiment, dtype: int64"
      ]
     },
     "execution_count": 4,
     "metadata": {},
     "output_type": "execute_result"
    }
   ],
   "source": [
    "def to_sentiment(label):\n",
    "  label = str(label)\n",
    "  if label == \"Negative\":\n",
    "    return 0\n",
    "  if label == \"Neutral\":\n",
    "    return 1\n",
    "  if label == \"Positive\":\n",
    "    return 2\n",
    "df['sentiment'] = df.label.apply(to_sentiment)\n",
    "df['sentiment'].value_counts()"
   ]
  },
  {
   "cell_type": "code",
   "execution_count": 5,
   "id": "2b658030-a33d-4b0c-bc44-8500116a8aa0",
   "metadata": {
    "execution": {
     "iopub.execute_input": "2022-10-18T19:34:36.679733Z",
     "iopub.status.busy": "2022-10-18T19:34:36.679317Z",
     "iopub.status.idle": "2022-10-18T19:34:36.692749Z",
     "shell.execute_reply": "2022-10-18T19:34:36.691835Z",
     "shell.execute_reply.started": "2022-10-18T19:34:36.679706Z"
    }
   },
   "outputs": [
    {
     "name": "stdout",
     "output_type": "stream",
     "text": [
      "Empty DataFrame\n",
      "Columns: [body, label, sentiment]\n",
      "Index: []\n"
     ]
    },
    {
     "data": {
      "text/plain": [
       "(3379, 3)"
      ]
     },
     "execution_count": 5,
     "metadata": {},
     "output_type": "execute_result"
    }
   ],
   "source": [
    "print(df[df['sentiment'].isnull()])\n",
    "df = df.dropna(subset = ['sentiment'])\n",
    "df.shape"
   ]
  },
  {
   "cell_type": "code",
   "execution_count": 6,
   "id": "8df393de-7a0d-4c0b-bf42-eab77895b153",
   "metadata": {
    "execution": {
     "iopub.execute_input": "2022-10-18T19:34:39.441773Z",
     "iopub.status.busy": "2022-10-18T19:34:39.441396Z",
     "iopub.status.idle": "2022-10-18T19:34:40.182903Z",
     "shell.execute_reply": "2022-10-18T19:34:40.181491Z",
     "shell.execute_reply.started": "2022-10-18T19:34:39.441746Z"
    }
   },
   "outputs": [
    {
     "data": {
      "application/vnd.jupyter.widget-view+json": {
       "model_id": "51a0912c6d7f439d930543d5e9a521f6",
       "version_major": 2,
       "version_minor": 0
      },
      "text/plain": [
       "Downloading:   0%|          | 0.00/208k [00:00<?, ?B/s]"
      ]
     },
     "metadata": {},
     "output_type": "display_data"
    },
    {
     "data": {
      "application/vnd.jupyter.widget-view+json": {
       "model_id": "25d7ce0832ce405b8a9c0bb40084e0c2",
       "version_major": 2,
       "version_minor": 0
      },
      "text/plain": [
       "Downloading:   0%|          | 0.00/29.0 [00:00<?, ?B/s]"
      ]
     },
     "metadata": {},
     "output_type": "display_data"
    },
    {
     "data": {
      "application/vnd.jupyter.widget-view+json": {
       "model_id": "c14a8ea24493455babfa54da578a6237",
       "version_major": 2,
       "version_minor": 0
      },
      "text/plain": [
       "Downloading:   0%|          | 0.00/570 [00:00<?, ?B/s]"
      ]
     },
     "metadata": {},
     "output_type": "display_data"
    }
   ],
   "source": [
    "PRE_TRAINED_MODEL_NAME = 'bert-base-cased'\n",
    "tokenizer = BertTokenizer.from_pretrained(PRE_TRAINED_MODEL_NAME)"
   ]
  },
  {
   "cell_type": "code",
   "execution_count": 9,
   "id": "3e57d481-72a7-40ed-b1ed-fa895a9bdd0a",
   "metadata": {
    "execution": {
     "iopub.execute_input": "2022-10-18T19:34:51.024407Z",
     "iopub.status.busy": "2022-10-18T19:34:51.024038Z",
     "iopub.status.idle": "2022-10-18T19:34:51.029684Z",
     "shell.execute_reply": "2022-10-18T19:34:51.028664Z",
     "shell.execute_reply.started": "2022-10-18T19:34:51.024380Z"
    }
   },
   "outputs": [],
   "source": [
    "import warnings\n",
    "warnings.filterwarnings('ignore')"
   ]
  },
  {
   "cell_type": "code",
   "execution_count": 10,
   "id": "741a33f5-6390-463f-8145-7297c9f1bea4",
   "metadata": {
    "execution": {
     "iopub.execute_input": "2022-10-18T19:34:53.118342Z",
     "iopub.status.busy": "2022-10-18T19:34:53.117177Z",
     "iopub.status.idle": "2022-10-18T19:34:55.937723Z",
     "shell.execute_reply": "2022-10-18T19:34:55.936395Z",
     "shell.execute_reply.started": "2022-10-18T19:34:53.118314Z"
    }
   },
   "outputs": [
    {
     "name": "stderr",
     "output_type": "stream",
     "text": [
      "Truncation was not explicitly activated but `max_length` is provided a specific value, please use `truncation=True` to explicitly truncate examples to max length. Defaulting to 'longest_first' truncation strategy. If you encode pairs of sequences (GLUE-style) with the tokenizer you can select this strategy more precisely by providing a specific strategy to `truncation`.\n"
     ]
    },
    {
     "data": {
      "text/plain": [
       "<seaborn.axisgrid.FacetGrid at 0x7fe8a00d8e50>"
      ]
     },
     "execution_count": 10,
     "metadata": {},
     "output_type": "execute_result"
    },
    {
     "data": {
      "image/png": "[encoded data removed]",
      "text/plain": [
       "<Figure size 360x360 with 1 Axes>"
      ]
     },
     "metadata": {
      "image/png": {
       "height": 343,
       "width": 343
      }
     },
     "output_type": "display_data"
    }
   ],
   "source": [
    "token_lens = []\n",
    "for txt in df.body:\n",
    "  tokens = tokenizer.encode(txt, max_length=512)\n",
    "  token_lens.append(len(tokens))\n",
    "sns.displot(token_lens)"
   ]
  },
  {
   "cell_type": "code",
   "execution_count": 11,
   "id": "6b23c26b-be07-46aa-bea9-9cce5b554186",
   "metadata": {
    "execution": {
     "iopub.execute_input": "2022-10-18T19:35:01.529547Z",
     "iopub.status.busy": "2022-10-18T19:35:01.529154Z",
     "iopub.status.idle": "2022-10-18T19:35:01.538064Z",
     "shell.execute_reply": "2022-10-18T19:35:01.537027Z",
     "shell.execute_reply.started": "2022-10-18T19:35:01.529520Z"
    }
   },
   "outputs": [],
   "source": [
    "MAX_LEN = 300\n",
    "class redditDataset(Dataset):\n",
    "  def __init__(self, reviews, targets, tokenizer, max_len):\n",
    "    self.reviews = reviews\n",
    "    self.targets = targets\n",
    "    self.tokenizer = tokenizer\n",
    "    self.max_len = max_len\n",
    "  def __len__(self):\n",
    "    return len(self.reviews)\n",
    "  def __getitem__(self, item):\n",
    "    review = str(self.reviews[item])\n",
    "    target = self.targets[item]\n",
    "    encoding = self.tokenizer.encode_plus(\n",
    "      review,\n",
    "      add_special_tokens=True,\n",
    "      max_length=self.max_len,\n",
    "      return_token_type_ids=False,\n",
    "      pad_to_max_length=True,\n",
    "      return_attention_mask=True,\n",
    "      return_tensors='pt',\n",
    "    )\n",
    "    return {\n",
    "      'review_text': review,\n",
    "      'input_ids': encoding['input_ids'].flatten(),\n",
    "      'attention_mask': encoding['attention_mask'].flatten(),\n",
    "      'targets': torch.tensor(target, dtype=torch.long)\n",
    "    }"
   ]
  },
  {
   "cell_type": "code",
   "execution_count": 12,
   "id": "8afc21ba-c129-4516-8fcb-f11049e7219f",
   "metadata": {
    "execution": {
     "iopub.execute_input": "2022-10-18T19:35:05.991117Z",
     "iopub.status.busy": "2022-10-18T19:35:05.990700Z",
     "iopub.status.idle": "2022-10-18T19:35:06.001439Z",
     "shell.execute_reply": "2022-10-18T19:35:06.000230Z",
     "shell.execute_reply.started": "2022-10-18T19:35:05.991090Z"
    }
   },
   "outputs": [
    {
     "name": "stdout",
     "output_type": "stream",
     "text": [
      "2703\n",
      "676\n"
     ]
    }
   ],
   "source": [
    "df_train, df_test = train_test_split(\n",
    "  df,\n",
    "  test_size=0.2,\n",
    "  random_state=RANDOM_SEED)\n",
    "print(len(df_train))\n",
    "print(len(df_test))"
   ]
  },
  {
   "cell_type": "code",
   "execution_count": 13,
   "id": "9c496bbb-e4cc-4010-ac27-2e317f5a3758",
   "metadata": {
    "execution": {
     "iopub.execute_input": "2022-10-18T19:35:12.213797Z",
     "iopub.status.busy": "2022-10-18T19:35:12.213402Z",
     "iopub.status.idle": "2022-10-18T19:35:12.220985Z",
     "shell.execute_reply": "2022-10-18T19:35:12.219944Z",
     "shell.execute_reply.started": "2022-10-18T19:35:12.213766Z"
    }
   },
   "outputs": [],
   "source": [
    "def create_data_loader(df, tokenizer, max_len, batch_size):\n",
    "  ds = redditDataset(\n",
    "    reviews=df.body.to_numpy(),\n",
    "    targets=df.sentiment.to_numpy(),\n",
    "    tokenizer=tokenizer,\n",
    "    max_len=max_len\n",
    "  )\n",
    "  return DataLoader(\n",
    "    ds,\n",
    "    batch_size=batch_size,\n",
    "    num_workers=4\n",
    "  )\n",
    "\n",
    "BATCH_SIZE = 16\n",
    "train_data_loader = create_data_loader(df_train, tokenizer, MAX_LEN, BATCH_SIZE)\n",
    "#val_data_loader = create_data_loader(df_val, tokenizer, MAX_LEN, BATCH_SIZE)\n",
    "test_data_loader = create_data_loader(df_test, tokenizer, MAX_LEN, BATCH_SIZE)"
   ]
  },
  {
   "cell_type": "code",
   "execution_count": 14,
   "id": "d38eee46-cbd7-4e7a-b218-e64a97e96215",
   "metadata": {
    "execution": {
     "iopub.execute_input": "2022-10-18T19:35:15.933600Z",
     "iopub.status.busy": "2022-10-18T19:35:15.933237Z",
     "iopub.status.idle": "2022-10-18T19:35:16.101221Z",
     "shell.execute_reply": "2022-10-18T19:35:16.100000Z",
     "shell.execute_reply.started": "2022-10-18T19:35:15.933573Z"
    }
   },
   "outputs": [
    {
     "data": {
      "text/plain": [
       "dict_keys(['review_text', 'input_ids', 'attention_mask', 'targets'])"
      ]
     },
     "execution_count": 14,
     "metadata": {},
     "output_type": "execute_result"
    }
   ],
   "source": [
    "data = next(iter(train_data_loader))\n",
    "data.keys()"
   ]
  },
  {
   "cell_type": "code",
   "execution_count": 15,
   "id": "d58b4d5d-78df-4edb-ac2a-55a04585ed56",
   "metadata": {
    "execution": {
     "iopub.execute_input": "2022-10-18T19:35:19.149669Z",
     "iopub.status.busy": "2022-10-18T19:35:19.149067Z",
     "iopub.status.idle": "2022-10-18T19:35:19.155756Z",
     "shell.execute_reply": "2022-10-18T19:35:19.154466Z",
     "shell.execute_reply.started": "2022-10-18T19:35:19.149637Z"
    }
   },
   "outputs": [
    {
     "name": "stdout",
     "output_type": "stream",
     "text": [
      "torch.Size([16, 300])\n",
      "torch.Size([16, 300])\n",
      "torch.Size([16])\n"
     ]
    }
   ],
   "source": [
    "print(data['input_ids'].shape)\n",
    "print(data['attention_mask'].shape)\n",
    "print(data['targets'].shape)"
   ]
  },
  {
   "cell_type": "code",
   "execution_count": 16,
   "id": "55ce1e29-d53b-488f-b6b5-bb6bc89bf4a2",
   "metadata": {
    "execution": {
     "iopub.execute_input": "2022-10-18T19:35:22.044038Z",
     "iopub.status.busy": "2022-10-18T19:35:22.043646Z",
     "iopub.status.idle": "2022-10-18T19:35:31.132723Z",
     "shell.execute_reply": "2022-10-18T19:35:31.131592Z",
     "shell.execute_reply.started": "2022-10-18T19:35:22.044012Z"
    }
   },
   "outputs": [
    {
     "data": {
      "application/vnd.jupyter.widget-view+json": {
       "model_id": "2da7b152dfdf4725a8f65a1e9cf77593",
       "version_major": 2,
       "version_minor": 0
      },
      "text/plain": [
       "Downloading:   0%|          | 0.00/416M [00:00<?, ?B/s]"
      ]
     },
     "metadata": {},
     "output_type": "display_data"
    },
    {
     "name": "stderr",
     "output_type": "stream",
     "text": [
      "Some weights of the model checkpoint at bert-base-cased were not used when initializing BertModel: ['cls.predictions.transform.dense.weight', 'cls.predictions.transform.LayerNorm.bias', 'cls.predictions.decoder.weight', 'cls.predictions.bias', 'cls.seq_relationship.weight', 'cls.seq_relationship.bias', 'cls.predictions.transform.dense.bias', 'cls.predictions.transform.LayerNorm.weight']\n",
      "- This IS expected if you are initializing BertModel from the checkpoint of a model trained on another task or with another architecture (e.g. initializing a BertForSequenceClassification model from a BertForPreTraining model).\n",
      "- This IS NOT expected if you are initializing BertModel from the checkpoint of a model that you expect to be exactly identical (initializing a BertForSequenceClassification model from a BertForSequenceClassification model).\n"
     ]
    }
   ],
   "source": [
    "bert_model = BertModel.from_pretrained(\"bert-base-cased\")"
   ]
  },
  {
   "cell_type": "code",
   "execution_count": 17,
   "id": "a004d3ca-b62c-4587-b505-c00f56f07b47",
   "metadata": {
    "execution": {
     "iopub.execute_input": "2022-10-18T19:35:34.472447Z",
     "iopub.status.busy": "2022-10-18T19:35:34.472042Z",
     "iopub.status.idle": "2022-10-18T19:35:34.616784Z",
     "shell.execute_reply": "2022-10-18T19:35:34.615686Z",
     "shell.execute_reply.started": "2022-10-18T19:35:34.472420Z"
    }
   },
   "outputs": [
    {
     "data": {
      "text/plain": [
       "torch.Size([1, 17, 768])"
      ]
     },
     "execution_count": 17,
     "metadata": {},
     "output_type": "execute_result"
    }
   ],
   "source": [
    "last_hidden_state, pooled_output = bert_model(\n",
    "  input_ids=encoding['input_ids'],\n",
    "  attention_mask=encoding['attention_mask'],\n",
    "  return_dict = False\n",
    ")\n",
    "last_hidden_state.shape"
   ]
  },
  {
   "cell_type": "code",
   "execution_count": 18,
   "id": "3ff2c073-9979-4709-9249-112bda3004d2",
   "metadata": {
    "execution": {
     "iopub.execute_input": "2022-10-18T19:35:38.534323Z",
     "iopub.status.busy": "2022-10-18T19:35:38.533982Z",
     "iopub.status.idle": "2022-10-18T19:35:38.541149Z",
     "shell.execute_reply": "2022-10-18T19:35:38.540296Z",
     "shell.execute_reply.started": "2022-10-18T19:35:38.534297Z"
    }
   },
   "outputs": [],
   "source": [
    "class SentimentClassifier(nn.Module):\n",
    "  def __init__(self, n_classes):\n",
    "    super(SentimentClassifier, self).__init__()\n",
    "    self.bert = BertModel.from_pretrained(\"bert-base-cased\")\n",
    "    self.drop = nn.Dropout(p=0.5)\n",
    "    self.out = nn.Linear(self.bert.config.hidden_size, n_classes)\n",
    "  def forward(self, input_ids, attention_mask):\n",
    "    returned = self.bert(\n",
    "    input_ids=input_ids,\n",
    "    attention_mask=attention_mask\n",
    "    )\n",
    "    pooled_output = returned[\"pooler_output\"]\n",
    "    output = self.drop(pooled_output)\n",
    "    return self.out(output)"
   ]
  },
  {
   "cell_type": "code",
   "execution_count": 19,
   "id": "2a055a7b-ad9b-4dbb-8b20-5881cd54088b",
   "metadata": {
    "execution": {
     "iopub.execute_input": "2022-10-18T19:35:40.426174Z",
     "iopub.status.busy": "2022-10-18T19:35:40.425201Z",
     "iopub.status.idle": "2022-10-18T19:35:42.362540Z",
     "shell.execute_reply": "2022-10-18T19:35:42.361838Z",
     "shell.execute_reply.started": "2022-10-18T19:35:40.426138Z"
    }
   },
   "outputs": [
    {
     "name": "stderr",
     "output_type": "stream",
     "text": [
      "Some weights of the model checkpoint at bert-base-cased were not used when initializing BertModel: ['cls.predictions.transform.dense.weight', 'cls.predictions.transform.LayerNorm.bias', 'cls.predictions.decoder.weight', 'cls.predictions.bias', 'cls.seq_relationship.weight', 'cls.seq_relationship.bias', 'cls.predictions.transform.dense.bias', 'cls.predictions.transform.LayerNorm.weight']\n",
      "- This IS expected if you are initializing BertModel from the checkpoint of a model trained on another task or with another architecture (e.g. initializing a BertForSequenceClassification model from a BertForPreTraining model).\n",
      "- This IS NOT expected if you are initializing BertModel from the checkpoint of a model that you expect to be exactly identical (initializing a BertForSequenceClassification model from a BertForSequenceClassification model).\n"
     ]
    }
   ],
   "source": [
    "model = SentimentClassifier(3)"
   ]
  },
  {
   "cell_type": "code",
   "execution_count": 20,
   "id": "930e48c1-6497-41de-a7e6-2ee64084e386",
   "metadata": {
    "execution": {
     "iopub.execute_input": "2022-10-18T19:35:44.814687Z",
     "iopub.status.busy": "2022-10-18T19:35:44.814299Z",
     "iopub.status.idle": "2022-10-18T19:35:47.405983Z",
     "shell.execute_reply": "2022-10-18T19:35:47.404815Z",
     "shell.execute_reply.started": "2022-10-18T19:35:44.814661Z"
    }
   },
   "outputs": [
    {
     "name": "stdout",
     "output_type": "stream",
     "text": [
      "torch.Size([16, 300])\n",
      "torch.Size([16, 300])\n"
     ]
    }
   ],
   "source": [
    "model = model.to(device)\n",
    "input_ids = data['input_ids'].to(device)\n",
    "attention_mask = data['attention_mask'].to(device)\n",
    "print(input_ids.shape) # batch size x seq length\n",
    "print(attention_mask.shape) # batch size x seq length"
   ]
  },
  {
   "cell_type": "code",
   "execution_count": 26,
   "id": "5cdc0a75-48e1-480f-8aae-490d9d37e41b",
   "metadata": {
    "execution": {
     "iopub.execute_input": "2022-10-18T19:41:04.446253Z",
     "iopub.status.busy": "2022-10-18T19:41:04.445743Z",
     "iopub.status.idle": "2022-10-18T19:41:04.456682Z",
     "shell.execute_reply": "2022-10-18T19:41:04.455656Z",
     "shell.execute_reply.started": "2022-10-18T19:41:04.446214Z"
    }
   },
   "outputs": [],
   "source": [
    "import torch.nn.functional as F\n",
    "EPOCHS = 100\n",
    "#optimizer = optim.SGD(model.parameters(), 0.1)#lr=2e-5)\n",
    "optimizer = AdamW(model.parameters(), lr=2e-5)\n",
    "total_steps = len(train_data_loader) * EPOCHS\n",
    "scheduler = get_linear_schedule_with_warmup(\n",
    "  optimizer,\n",
    "  num_warmup_steps=0,\n",
    "  num_training_steps=total_steps\n",
    ")\n",
    "loss_fn = nn.CrossEntropyLoss().to(device)"
   ]
  },
  {
   "cell_type": "code",
   "execution_count": 22,
   "id": "7804ef52-ee63-4282-b49b-72876d170e5a",
   "metadata": {
    "execution": {
     "iopub.execute_input": "2022-10-13T04:43:17.922461Z",
     "iopub.status.busy": "2022-10-13T04:43:17.922164Z",
     "iopub.status.idle": "2022-10-13T04:43:17.929552Z",
     "shell.execute_reply": "2022-10-13T04:43:17.928716Z",
     "shell.execute_reply.started": "2022-10-13T04:43:17.922432Z"
    }
   },
   "outputs": [],
   "source": [
    "def train_epoch(\n",
    "  model,\n",
    "  data_loader,\n",
    "  loss_fn,\n",
    "  optimizer,\n",
    "  device,\n",
    "  scheduler,\n",
    "  n_examples\n",
    "):\n",
    "  model = model.train()\n",
    "  losses = []\n",
    "  correct_predictions = 0\n",
    "  for d in data_loader:\n",
    "    input_ids = d[\"input_ids\"].to(device)\n",
    "    attention_mask = d[\"attention_mask\"].to(device)\n",
    "    targets = d[\"targets\"].to(device)\n",
    "    outputs = model(\n",
    "      input_ids=input_ids,\n",
    "      attention_mask=attention_mask\n",
    "    )\n",
    "    _, preds = torch.max(outputs, dim=1)\n",
    "    loss = loss_fn(outputs, targets)\n",
    "    correct_predictions += torch.sum(preds == targets)\n",
    "    losses.append(loss.item())\n",
    "    loss.backward()\n",
    "    nn.utils.clip_grad_norm_(model.parameters(), max_norm=1.0)\n",
    "    optimizer.step()\n",
    "    scheduler.step()\n",
    "    optimizer.zero_grad()\n",
    "  return correct_predictions.double() / n_examples, np.mean(losses)"
   ]
  },
  {
   "cell_type": "code",
   "execution_count": 27,
   "id": "aed97892-26b1-4a32-83ff-573ca426c3dd",
   "metadata": {
    "execution": {
     "iopub.execute_input": "2022-10-18T19:41:12.732145Z",
     "iopub.status.busy": "2022-10-18T19:41:12.731758Z",
     "iopub.status.idle": "2022-10-18T19:41:12.739291Z",
     "shell.execute_reply": "2022-10-18T19:41:12.738120Z",
     "shell.execute_reply.started": "2022-10-18T19:41:12.732117Z"
    }
   },
   "outputs": [],
   "source": [
    "def eval_model(model, data_loader, loss_fn, device, n_examples):\n",
    "  model = model.eval()\n",
    "  losses = []\n",
    "  correct_predictions = 0\n",
    "  with torch.no_grad():\n",
    "    for d in data_loader:\n",
    "      input_ids = d[\"input_ids\"].to(device)\n",
    "      attention_mask = d[\"attention_mask\"].to(device)\n",
    "      targets = d[\"targets\"].to(device)\n",
    "      outputs = model(\n",
    "        input_ids=input_ids,\n",
    "        attention_mask=attention_mask\n",
    "      )\n",
    "      _, preds = torch.max(outputs, dim=1)\n",
    "      loss = loss_fn(outputs, targets)\n",
    "      correct_predictions += torch.sum(preds == targets)\n",
    "      losses.append(loss.item())\n",
    "  return correct_predictions.double() / n_examples, np.mean(losses)"
   ]
  },
  {
   "cell_type": "code",
   "execution_count": 28,
   "id": "7c8f762d-d6b9-4668-b59d-d4f710bb9b7a",
   "metadata": {
    "execution": {
     "iopub.execute_input": "2022-10-18T19:41:21.060463Z",
     "iopub.status.busy": "2022-10-18T19:41:21.060111Z",
     "iopub.status.idle": "2022-10-18T19:42:27.909122Z",
     "shell.execute_reply": "2022-10-18T19:42:27.907445Z",
     "shell.execute_reply.started": "2022-10-18T19:41:21.060438Z"
    }
   },
   "outputs": [
    {
     "name": "stdout",
     "output_type": "stream",
     "text": [
      "Val   loss 1.0655257913487903 accuracy 0.44099149093599704\n"
     ]
    }
   ],
   "source": [
    "  val_acc, val_loss = eval_model(\n",
    "    model,\n",
    "    train_data_loader,\n",
    "    loss_fn,\n",
    "    device,\n",
    "    len(df_train)\n",
    "  )\n",
    "  print(f'Val   loss {val_loss} accuracy {val_acc}')"
   ]
  },
  {
   "cell_type": "code",
   "execution_count": 29,
   "id": "294eeae1-a4ca-4c0d-b838-fdeb376d6f99",
   "metadata": {
    "execution": {
     "iopub.execute_input": "2022-10-18T19:52:02.512600Z",
     "iopub.status.busy": "2022-10-18T19:52:02.512148Z",
     "iopub.status.idle": "2022-10-18T19:52:19.335672Z",
     "shell.execute_reply": "2022-10-18T19:52:19.334578Z",
     "shell.execute_reply.started": "2022-10-18T19:52:02.512567Z"
    }
   },
   "outputs": [
    {
     "name": "stdout",
     "output_type": "stream",
     "text": [
      "Val   loss 1.0753310558407805 accuracy 0.42159763313609466\n"
     ]
    }
   ],
   "source": [
    "  val_acc, val_loss = eval_model(\n",
    "    model,\n",
    "    test_data_loader,\n",
    "    loss_fn,\n",
    "    device,\n",
    "    len(df_test)\n",
    "  )\n",
    "  print(f'Val   loss {val_loss} accuracy {val_acc}')"
   ]
  }
 ],
 "metadata": {
  "kernelspec": {
   "display_name": "base",
   "language": "python",
   "name": "python3"
  },
  "language_info": {
   "codemirror_mode": {
    "name": "ipython",
    "version": 3
   },
   "file_extension": ".py",
   "mimetype": "text/x-python",
   "name": "python",
   "nbconvert_exporter": "python",
   "pygments_lexer": "ipython3",
   "version": "3.6.13"
  },
  "vscode": {
   "interpreter": {
    "hash": "01ea21ff6a4f3074a68e71f39f127958401068994ac911c4fa7f15f5a28521f3"
   }
  }
 },
 "nbformat": 4,
 "nbformat_minor": 5
}

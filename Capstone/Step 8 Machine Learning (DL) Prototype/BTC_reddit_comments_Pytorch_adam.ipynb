{
  "cells": [
    {
      "cell_type": "code",
      "execution_count": 1,
      "id": "5cd86c34-43be-4106-8ceb-bb59886b0a8e",
      "metadata": {
        "execution": {
          "iopub.execute_input": "2022-11-20T03:35:50.892284Z",
          "iopub.status.busy": "2022-11-20T03:35:50.891367Z",
          "iopub.status.idle": "2022-11-20T03:35:55.456156Z",
          "shell.execute_reply": "2022-11-20T03:35:55.454885Z",
          "shell.execute_reply.started": "2022-11-20T03:35:50.892205Z"
        },
        "id": "5cd86c34-43be-4106-8ceb-bb59886b0a8e"
      },
      "outputs": [],
      "source": [
        "! pip install transformers\n",
        "import transformers\n",
        "from transformers import BertModel, BertTokenizer, AdamW, get_linear_schedule_with_warmup\n",
        "import torch\n",
        "import numpy as np\n",
        "import pandas as pd\n",
        "import seaborn as sns\n",
        "from pylab import rcParams\n",
        "import matplotlib.pyplot as plt\n",
        "from matplotlib import rc\n",
        "from sklearn.model_selection import train_test_split\n",
        "from sklearn.metrics import confusion_matrix, classification_report\n",
        "from collections import defaultdict\n",
        "from textwrap import wrap\n",
        "from torch import nn, optim\n",
        "from torch.utils.data import Dataset, DataLoader\n",
        "%matplotlib inline\n",
        "%config InlineBackend.figure_format='retina'\n",
        "sns.set(style='whitegrid', palette='muted', font_scale=1.2)\n",
        "HAPPY_COLORS_PALETTE = [\"#01BEFE\", \"#FFDD00\", \"#FF7D00\", \"#FF006D\", \"#ADFF02\", \"#8F00FF\"]\n",
        "sns.set_palette(sns.color_palette(HAPPY_COLORS_PALETTE))\n",
        "rcParams['figure.figsize'] = 12, 8\n",
        "RANDOM_SEED = 42\n",
        "np.random.seed(RANDOM_SEED)\n",
        "torch.manual_seed(RANDOM_SEED)\n",
        "import warnings\n",
        "warnings.filterwarnings('ignore')\n",
        "device = torch.device(\"cuda:0\" if torch.cuda.is_available() else \"cpu\")"
      ]
    },
    {
      "cell_type": "code",
      "execution_count": 2,
      "id": "48dddc07-14b2-486e-a382-76c999d3656a",
      "metadata": {
        "colab": {
          "base_uri": "https://localhost:8080/",
          "height": 206
        },
        "execution": {
          "iopub.execute_input": "2022-11-20T03:36:35.883015Z",
          "iopub.status.busy": "2022-11-20T03:36:35.882218Z",
          "iopub.status.idle": "2022-11-20T03:36:35.912279Z",
          "shell.execute_reply": "2022-11-20T03:36:35.911591Z",
          "shell.execute_reply.started": "2022-11-20T03:36:35.882984Z"
        },
        "id": "48dddc07-14b2-486e-a382-76c999d3656a",
        "outputId": "f472da00-6d46-465b-dbd2-bc1f6843a153"
      },
      "outputs": [
        {
          "data": {
            "text/html": [
              "\n",
              "  <div id=\"df-776a8f6e-0e87-4d2e-9017-9bb7e1e846db\">\n",
              "    <div class=\"colab-df-container\">\n",
              "      <div>\n",
              "<style scoped>\n",
              "    .dataframe tbody tr th:only-of-type {\n",
              "        vertical-align: middle;\n",
              "    }\n",
              "\n",
              "    .dataframe tbody tr th {\n",
              "        vertical-align: top;\n",
              "    }\n",
              "\n",
              "    .dataframe thead th {\n",
              "        text-align: right;\n",
              "    }\n",
              "</style>\n",
              "<table border=\"1\" class=\"dataframe\">\n",
              "  <thead>\n",
              "    <tr style=\"text-align: right;\">\n",
              "      <th></th>\n",
              "      <th>text</th>\n",
              "      <th>label</th>\n",
              "    </tr>\n",
              "  </thead>\n",
              "  <tbody>\n",
              "    <tr>\n",
              "      <th>0</th>\n",
              "      <td>They buy bitcoin with any dollars you have, an...</td>\n",
              "      <td>0</td>\n",
              "    </tr>\n",
              "    <tr>\n",
              "      <th>1</th>\n",
              "      <td>why mine bitcoin when I could minecraft.</td>\n",
              "      <td>0</td>\n",
              "    </tr>\n",
              "    <tr>\n",
              "      <th>2</th>\n",
              "      <td>What are you talking about? Bitcoin is backed ...</td>\n",
              "      <td>0</td>\n",
              "    </tr>\n",
              "    <tr>\n",
              "      <th>3</th>\n",
              "      <td>Bitcoin is worthless and no one who accepts it...</td>\n",
              "      <td>0</td>\n",
              "    </tr>\n",
              "    <tr>\n",
              "      <th>4</th>\n",
              "      <td>Awesome. Fuck bitcoin.</td>\n",
              "      <td>0</td>\n",
              "    </tr>\n",
              "  </tbody>\n",
              "</table>\n",
              "</div>\n",
              "      <button class=\"colab-df-convert\" onclick=\"convertToInteractive('df-776a8f6e-0e87-4d2e-9017-9bb7e1e846db')\"\n",
              "              title=\"Convert this dataframe to an interactive table.\"\n",
              "              style=\"display:none;\">\n",
              "        \n",
              "  <svg xmlns=\"http://www.w3.org/2000/svg\" height=\"24px\"viewBox=\"0 0 24 24\"\n",
              "       width=\"24px\">\n",
              "    <path d=\"M0 0h24v24H0V0z\" fill=\"none\"/>\n",
              "    <path d=\"M18.56 5.44l.94 2.06.94-2.06 2.06-.94-2.06-.94-.94-2.06-.94 2.06-2.06.94zm-11 1L8.5 8.5l.94-2.06 2.06-.94-2.06-.94L8.5 2.5l-.94 2.06-2.06.94zm10 10l.94 2.06.94-2.06 2.06-.94-2.06-.94-.94-2.06-.94 2.06-2.06.94z\"/><path d=\"M17.41 7.96l-1.37-1.37c-.4-.4-.92-.59-1.43-.59-.52 0-1.04.2-1.43.59L10.3 9.45l-7.72 7.72c-.78.78-.78 2.05 0 2.83L4 21.41c.39.39.9.59 1.41.59.51 0 1.02-.2 1.41-.59l7.78-7.78 2.81-2.81c.8-.78.8-2.07 0-2.86zM5.41 20L4 18.59l7.72-7.72 1.47 1.35L5.41 20z\"/>\n",
              "  </svg>\n",
              "      </button>\n",
              "      \n",
              "  <style>\n",
              "    .colab-df-container {\n",
              "      display:flex;\n",
              "      flex-wrap:wrap;\n",
              "      gap: 12px;\n",
              "    }\n",
              "\n",
              "    .colab-df-convert {\n",
              "      background-color: #E8F0FE;\n",
              "      border: none;\n",
              "      border-radius: 50%;\n",
              "      cursor: pointer;\n",
              "      display: none;\n",
              "      fill: #1967D2;\n",
              "      height: 32px;\n",
              "      padding: 0 0 0 0;\n",
              "      width: 32px;\n",
              "    }\n",
              "\n",
              "    .colab-df-convert:hover {\n",
              "      background-color: #E2EBFA;\n",
              "      box-shadow: 0px 1px 2px rgba(60, 64, 67, 0.3), 0px 1px 3px 1px rgba(60, 64, 67, 0.15);\n",
              "      fill: #174EA6;\n",
              "    }\n",
              "\n",
              "    [theme=dark] .colab-df-convert {\n",
              "      background-color: #3B4455;\n",
              "      fill: #D2E3FC;\n",
              "    }\n",
              "\n",
              "    [theme=dark] .colab-df-convert:hover {\n",
              "      background-color: #434B5C;\n",
              "      box-shadow: 0px 1px 3px 1px rgba(0, 0, 0, 0.15);\n",
              "      filter: drop-shadow(0px 1px 2px rgba(0, 0, 0, 0.3));\n",
              "      fill: #FFFFFF;\n",
              "    }\n",
              "  </style>\n",
              "\n",
              "      <script>\n",
              "        const buttonEl =\n",
              "          document.querySelector('#df-776a8f6e-0e87-4d2e-9017-9bb7e1e846db button.colab-df-convert');\n",
              "        buttonEl.style.display =\n",
              "          google.colab.kernel.accessAllowed ? 'block' : 'none';\n",
              "\n",
              "        async function convertToInteractive(key) {\n",
              "          const element = document.querySelector('#df-776a8f6e-0e87-4d2e-9017-9bb7e1e846db');\n",
              "          const dataTable =\n",
              "            await google.colab.kernel.invokeFunction('convertToInteractive',\n",
              "                                                     [key], {});\n",
              "          if (!dataTable) return;\n",
              "\n",
              "          const docLinkHtml = 'Like what you see? Visit the ' +\n",
              "            '<a target=\"_blank\" href=https://colab.research.google.com/notebooks/data_table.ipynb>data table notebook</a>'\n",
              "            + ' to learn more about interactive tables.';\n",
              "          element.innerHTML = '';\n",
              "          dataTable['output_type'] = 'display_data';\n",
              "          await google.colab.output.renderOutput(dataTable, element);\n",
              "          const docLink = document.createElement('div');\n",
              "          docLink.innerHTML = docLinkHtml;\n",
              "          element.appendChild(docLink);\n",
              "        }\n",
              "      </script>\n",
              "    </div>\n",
              "  </div>\n",
              "  "
            ],
            "text/plain": [
              "                                                text  label\n",
              "0  They buy bitcoin with any dollars you have, an...      0\n",
              "1           why mine bitcoin when I could minecraft.      0\n",
              "2  What are you talking about? Bitcoin is backed ...      0\n",
              "3  Bitcoin is worthless and no one who accepts it...      0\n",
              "4                             Awesome. Fuck bitcoin.      0"
            ]
          },
          "execution_count": 2,
          "metadata": {},
          "output_type": "execute_result"
        }
      ],
      "source": [
        "df = pd.read_csv(\"/content/df3111.csv\",encoding=\"ISO-8859-1\")\n",
        "df = df[[\"text\",\"label\"]]\n",
        "df.head()"
      ]
    },
    {
      "cell_type": "code",
      "execution_count": 3,
      "id": "7c01e7d5-d5ad-46d4-b0a8-fa50fb87410c",
      "metadata": {
        "colab": {
          "base_uri": "https://localhost:8080/"
        },
        "execution": {
          "iopub.execute_input": "2022-11-20T03:37:14.610817Z",
          "iopub.status.busy": "2022-11-20T03:37:14.610465Z",
          "iopub.status.idle": "2022-11-20T03:37:14.626222Z",
          "shell.execute_reply": "2022-11-20T03:37:14.625568Z",
          "shell.execute_reply.started": "2022-11-20T03:37:14.610792Z"
        },
        "id": "7c01e7d5-d5ad-46d4-b0a8-fa50fb87410c",
        "outputId": "8d889a42-942e-4d15-ff3a-e5337e420a6e"
      },
      "outputs": [
        {
          "data": {
            "text/plain": [
              "2    1485\n",
              "1     945\n",
              "0     681\n",
              "Name: label, dtype: int64"
            ]
          },
          "execution_count": 3,
          "metadata": {},
          "output_type": "execute_result"
        }
      ],
      "source": [
        "df.label.value_counts()"
      ]
    },
    {
      "cell_type": "code",
      "execution_count": 4,
      "id": "_yLCDBldQjxi",
      "metadata": {
        "colab": {
          "base_uri": "https://localhost:8080/"
        },
        "id": "_yLCDBldQjxi",
        "outputId": "4f75eebc-f6de-4f4f-a798-11c53e4cab0e"
      },
      "outputs": [
        {
          "data": {
            "text/plain": [
              "(3111, 2)"
            ]
          },
          "execution_count": 4,
          "metadata": {},
          "output_type": "execute_result"
        }
      ],
      "source": [
        "df.shape"
      ]
    },
    {
      "cell_type": "code",
      "execution_count": 5,
      "id": "8df393de-7a0d-4c0b-bf42-eab77895b153",
      "metadata": {
        "execution": {
          "iopub.execute_input": "2022-11-20T03:37:34.818001Z",
          "iopub.status.busy": "2022-11-20T03:37:34.817634Z",
          "iopub.status.idle": "2022-11-20T03:37:35.356045Z",
          "shell.execute_reply": "2022-11-20T03:37:35.355374Z",
          "shell.execute_reply.started": "2022-11-20T03:37:34.817975Z"
        },
        "id": "8df393de-7a0d-4c0b-bf42-eab77895b153"
      },
      "outputs": [],
      "source": [
        "PRE_TRAINED_MODEL_NAME = 'bert-base-cased'\n",
        "tokenizer = BertTokenizer.from_pretrained(PRE_TRAINED_MODEL_NAME)"
      ]
    },
    {
      "cell_type": "code",
      "execution_count": 49,
      "id": "741a33f5-6390-463f-8145-7297c9f1bea4",
      "metadata": {
        "colab": {
          "base_uri": "https://localhost:8080/",
          "height": 377
        },
        "execution": {
          "iopub.execute_input": "2022-10-28T01:26:48.431194Z",
          "iopub.status.busy": "2022-10-28T01:26:48.430628Z",
          "iopub.status.idle": "2022-10-28T01:26:52.801495Z",
          "shell.execute_reply": "2022-10-28T01:26:52.799478Z",
          "shell.execute_reply.started": "2022-10-28T01:26:48.431165Z"
        },
        "id": "741a33f5-6390-463f-8145-7297c9f1bea4",
        "outputId": "19431498-4701-44e6-b21c-616707ffe8a2"
      },
      "outputs": [
        {
          "data": {
            "text/plain": [
              "<seaborn.axisgrid.FacetGrid at 0x7f67604107d0>"
            ]
          },
          "execution_count": 49,
          "metadata": {},
          "output_type": "execute_result"
        },
        {
          "data": {
            "image/png": "[encoded data removed]",
            "text/plain": [
              "<Figure size 360x360 with 1 Axes>"
            ]
          },
          "metadata": {
            "image/png": {
              "height": 343,
              "width": 343
            }
          },
          "output_type": "display_data"
        }
      ],
      "source": [
        "token_lens = []\n",
        "for txt in df.text:\n",
        "  tokens = tokenizer.encode(txt, max_length=512)\n",
        "  token_lens.append(len(tokens))\n",
        "sns.displot(token_lens)"
      ]
    },
    {
      "cell_type": "code",
      "execution_count": 8,
      "id": "6b23c26b-be07-46aa-bea9-9cce5b554186",
      "metadata": {
        "execution": {
          "iopub.execute_input": "2022-11-20T03:40:14.778662Z",
          "iopub.status.busy": "2022-11-20T03:40:14.777991Z",
          "iopub.status.idle": "2022-11-20T03:40:14.784597Z",
          "shell.execute_reply": "2022-11-20T03:40:14.783754Z",
          "shell.execute_reply.started": "2022-11-20T03:40:14.778633Z"
        },
        "id": "6b23c26b-be07-46aa-bea9-9cce5b554186"
      },
      "outputs": [],
      "source": [
        "MAX_LEN = 300\n",
        "class redditDataset(Dataset):\n",
        "  def __init__(self, reviews, targets, tokenizer, max_len):\n",
        "    self.reviews = reviews\n",
        "    self.targets = targets\n",
        "    self.tokenizer = tokenizer\n",
        "    self.max_len = max_len\n",
        "  def __len__(self):\n",
        "    return len(self.reviews)\n",
        "  def __getitem__(self, item):\n",
        "    review = str(self.reviews[item])\n",
        "    target = self.targets[item]\n",
        "    encoding = self.tokenizer.encode_plus(\n",
        "      review,\n",
        "      truncation=True,\n",
        "      add_special_tokens=True,\n",
        "      max_length=self.max_len,\n",
        "      return_token_type_ids=False,\n",
        "      padding='max_length',\n",
        "      #pad_to_max_length=True,\n",
        "      return_attention_mask=True,\n",
        "      return_tensors='pt',\n",
        "    )\n",
        "    return {\n",
        "      'review_text': review,\n",
        "      'input_ids': encoding['input_ids'].flatten(),\n",
        "      'attention_mask': encoding['attention_mask'].flatten(),\n",
        "      'targets': torch.tensor(target, dtype=torch.long)\n",
        "    }"
      ]
    },
    {
      "cell_type": "code",
      "execution_count": 9,
      "id": "8afc21ba-c129-4516-8fcb-f11049e7219f",
      "metadata": {
        "colab": {
          "base_uri": "https://localhost:8080/"
        },
        "execution": {
          "iopub.execute_input": "2022-11-20T04:12:08.105504Z",
          "iopub.status.busy": "2022-11-20T04:12:08.104877Z",
          "iopub.status.idle": "2022-11-20T04:12:08.112394Z",
          "shell.execute_reply": "2022-11-20T04:12:08.111513Z",
          "shell.execute_reply.started": "2022-11-20T04:12:08.105478Z"
        },
        "id": "8afc21ba-c129-4516-8fcb-f11049e7219f",
        "outputId": "7e0a906c-9d61-4e87-c167-15217bbeb37a"
      },
      "outputs": [
        {
          "name": "stdout",
          "output_type": "stream",
          "text": [
            "2488\n",
            "623\n"
          ]
        }
      ],
      "source": [
        "df_train, df_test = train_test_split(\n",
        "  df,\n",
        "  test_size=0.2,\n",
        "  random_state=RANDOM_SEED)\n",
        "print(len(df_train))\n",
        "print(len(df_test))"
      ]
    },
    {
      "cell_type": "code",
      "execution_count": 10,
      "id": "9c496bbb-e4cc-4010-ac27-2e317f5a3758",
      "metadata": {
        "execution": {
          "iopub.execute_input": "2022-11-20T04:12:12.673628Z",
          "iopub.status.busy": "2022-11-20T04:12:12.672916Z",
          "iopub.status.idle": "2022-11-20T04:12:12.679413Z",
          "shell.execute_reply": "2022-11-20T04:12:12.678648Z",
          "shell.execute_reply.started": "2022-11-20T04:12:12.673601Z"
        },
        "id": "9c496bbb-e4cc-4010-ac27-2e317f5a3758"
      },
      "outputs": [],
      "source": [
        "def create_data_loader(df, tokenizer, max_len, batch_size):\n",
        "  ds = redditDataset(\n",
        "    reviews=df.text.to_numpy(),\n",
        "    targets=df.label.to_numpy(),\n",
        "    tokenizer=tokenizer,\n",
        "    max_len=max_len\n",
        "  )\n",
        "  return DataLoader(\n",
        "    ds,\n",
        "    batch_size=batch_size,\n",
        "    num_workers=4\n",
        "  )\n",
        "\n",
        "BATCH_SIZE = 16\n",
        "train_data_loader = create_data_loader(df_train, tokenizer, MAX_LEN, BATCH_SIZE)\n",
        "#val_data_loader = create_data_loader(df_val, tokenizer, MAX_LEN, BATCH_SIZE)\n",
        "test_data_loader = create_data_loader(df_test, tokenizer, MAX_LEN, BATCH_SIZE)"
      ]
    },
    {
      "cell_type": "code",
      "execution_count": 11,
      "id": "d38eee46-cbd7-4e7a-b218-e64a97e96215",
      "metadata": {
        "colab": {
          "base_uri": "https://localhost:8080/"
        },
        "execution": {
          "iopub.execute_input": "2022-11-20T04:12:16.442464Z",
          "iopub.status.busy": "2022-11-20T04:12:16.441597Z",
          "iopub.status.idle": "2022-11-20T04:12:16.763712Z",
          "shell.execute_reply": "2022-11-20T04:12:16.762552Z",
          "shell.execute_reply.started": "2022-11-20T04:12:16.442434Z"
        },
        "id": "d38eee46-cbd7-4e7a-b218-e64a97e96215",
        "outputId": "84572569-af6e-4dfc-cb7c-1eeeddcf3d8f"
      },
      "outputs": [
        {
          "data": {
            "text/plain": [
              "dict_keys(['review_text', 'input_ids', 'attention_mask', 'targets'])"
            ]
          },
          "execution_count": 11,
          "metadata": {},
          "output_type": "execute_result"
        }
      ],
      "source": [
        "data = next(iter(train_data_loader))\n",
        "data.keys()"
      ]
    },
    {
      "cell_type": "code",
      "execution_count": 12,
      "id": "d58b4d5d-78df-4edb-ac2a-55a04585ed56",
      "metadata": {
        "colab": {
          "base_uri": "https://localhost:8080/"
        },
        "execution": {
          "iopub.execute_input": "2022-11-20T04:12:18.397684Z",
          "iopub.status.busy": "2022-11-20T04:12:18.396367Z",
          "iopub.status.idle": "2022-11-20T04:12:18.402602Z",
          "shell.execute_reply": "2022-11-20T04:12:18.401609Z",
          "shell.execute_reply.started": "2022-11-20T04:12:18.397646Z"
        },
        "id": "d58b4d5d-78df-4edb-ac2a-55a04585ed56",
        "outputId": "e9425437-8f0e-46b2-ecb8-c449a1c7c2c8"
      },
      "outputs": [
        {
          "name": "stdout",
          "output_type": "stream",
          "text": [
            "torch.Size([16, 300])\n",
            "torch.Size([16, 300])\n",
            "torch.Size([16])\n"
          ]
        }
      ],
      "source": [
        "print(data['input_ids'].shape)\n",
        "print(data['attention_mask'].shape)\n",
        "print(data['targets'].shape)"
      ]
    },
    {
      "cell_type": "code",
      "execution_count": 13,
      "id": "55ce1e29-d53b-488f-b6b5-bb6bc89bf4a2",
      "metadata": {
        "colab": {
          "base_uri": "https://localhost:8080/"
        },
        "execution": {
          "iopub.execute_input": "2022-11-20T04:12:21.450312Z",
          "iopub.status.busy": "2022-11-20T04:12:21.449417Z",
          "iopub.status.idle": "2022-11-20T04:12:23.060121Z",
          "shell.execute_reply": "2022-11-20T04:12:23.059041Z",
          "shell.execute_reply.started": "2022-11-20T04:12:21.450285Z"
        },
        "id": "55ce1e29-d53b-488f-b6b5-bb6bc89bf4a2",
        "outputId": "0a530cd1-6112-4530-9a3a-6b5a19a8f825"
      },
      "outputs": [
        {
          "name": "stderr",
          "output_type": "stream",
          "text": [
            "Some weights of the model checkpoint at bert-base-cased were not used when initializing BertModel: ['cls.predictions.transform.dense.weight', 'cls.predictions.bias', 'cls.seq_relationship.bias', 'cls.predictions.transform.LayerNorm.weight', 'cls.predictions.decoder.weight', 'cls.predictions.transform.LayerNorm.bias', 'cls.predictions.transform.dense.bias', 'cls.seq_relationship.weight']\n",
            "- This IS expected if you are initializing BertModel from the checkpoint of a model trained on another task or with another architecture (e.g. initializing a BertForSequenceClassification model from a BertForPreTraining model).\n",
            "- This IS NOT expected if you are initializing BertModel from the checkpoint of a model that you expect to be exactly identical (initializing a BertForSequenceClassification model from a BertForSequenceClassification model).\n"
          ]
        }
      ],
      "source": [
        "bert_model = BertModel.from_pretrained(\"bert-base-cased\")"
      ]
    },
    {
      "cell_type": "code",
      "execution_count": 14,
      "id": "3ff2c073-9979-4709-9249-112bda3004d2",
      "metadata": {
        "execution": {
          "iopub.execute_input": "2022-11-20T04:12:33.839081Z",
          "iopub.status.busy": "2022-11-20T04:12:33.838025Z",
          "iopub.status.idle": "2022-11-20T04:12:33.844091Z",
          "shell.execute_reply": "2022-11-20T04:12:33.843315Z",
          "shell.execute_reply.started": "2022-11-20T04:12:33.839055Z"
        },
        "id": "3ff2c073-9979-4709-9249-112bda3004d2"
      },
      "outputs": [],
      "source": [
        "class SentimentClassifier(nn.Module):\n",
        "  def __init__(self, n_classes):\n",
        "    super(SentimentClassifier, self).__init__()\n",
        "    self.bert = BertModel.from_pretrained(\"bert-base-cased\")\n",
        "    self.drop = nn.Dropout(p=0.3)\n",
        "    self.out = nn.Linear(self.bert.config.hidden_size, n_classes)\n",
        "  def forward(self, input_ids, attention_mask):\n",
        "    returned = self.bert(\n",
        "    input_ids=input_ids,\n",
        "    attention_mask=attention_mask\n",
        "    )\n",
        "    pooled_output = returned[\"pooler_output\"]\n",
        "    output = self.drop(pooled_output)\n",
        "    return self.out(output)"
      ]
    },
    {
      "cell_type": "code",
      "execution_count": 15,
      "id": "2a055a7b-ad9b-4dbb-8b20-5881cd54088b",
      "metadata": {
        "colab": {
          "base_uri": "https://localhost:8080/"
        },
        "execution": {
          "iopub.execute_input": "2022-11-20T04:12:38.049417Z",
          "iopub.status.busy": "2022-11-20T04:12:38.048840Z",
          "iopub.status.idle": "2022-11-20T04:12:39.503530Z",
          "shell.execute_reply": "2022-11-20T04:12:39.502451Z",
          "shell.execute_reply.started": "2022-11-20T04:12:38.049391Z"
        },
        "id": "2a055a7b-ad9b-4dbb-8b20-5881cd54088b",
        "outputId": "6bc1e675-5a6b-462f-bc52-8c9875d2f9a3"
      },
      "outputs": [
        {
          "name": "stderr",
          "output_type": "stream",
          "text": [
            "Some weights of the model checkpoint at bert-base-cased were not used when initializing BertModel: ['cls.predictions.transform.dense.weight', 'cls.predictions.bias', 'cls.seq_relationship.bias', 'cls.predictions.transform.LayerNorm.weight', 'cls.predictions.decoder.weight', 'cls.predictions.transform.LayerNorm.bias', 'cls.predictions.transform.dense.bias', 'cls.seq_relationship.weight']\n",
            "- This IS expected if you are initializing BertModel from the checkpoint of a model trained on another task or with another architecture (e.g. initializing a BertForSequenceClassification model from a BertForPreTraining model).\n",
            "- This IS NOT expected if you are initializing BertModel from the checkpoint of a model that you expect to be exactly identical (initializing a BertForSequenceClassification model from a BertForSequenceClassification model).\n"
          ]
        }
      ],
      "source": [
        "model = SentimentClassifier(3)"
      ]
    },
    {
      "cell_type": "code",
      "execution_count": 16,
      "id": "930e48c1-6497-41de-a7e6-2ee64084e386",
      "metadata": {
        "colab": {
          "base_uri": "https://localhost:8080/"
        },
        "execution": {
          "iopub.execute_input": "2022-11-20T04:12:43.600261Z",
          "iopub.status.busy": "2022-11-20T04:12:43.599211Z",
          "iopub.status.idle": "2022-11-20T04:12:43.729539Z",
          "shell.execute_reply": "2022-11-20T04:12:43.728378Z",
          "shell.execute_reply.started": "2022-11-20T04:12:43.600232Z"
        },
        "id": "930e48c1-6497-41de-a7e6-2ee64084e386",
        "outputId": "3bbe07c5-2217-4615-e755-734155c2e665"
      },
      "outputs": [
        {
          "name": "stdout",
          "output_type": "stream",
          "text": [
            "torch.Size([16, 300])\n",
            "torch.Size([16, 300])\n"
          ]
        }
      ],
      "source": [
        "model = model.to(device)\n",
        "input_ids = data['input_ids'].to(device)\n",
        "attention_mask = data['attention_mask'].to(device)\n",
        "print(input_ids.shape) # batch size x seq length\n",
        "print(attention_mask.shape) # batch size x seq length"
      ]
    },
    {
      "cell_type": "code",
      "execution_count": 17,
      "id": "5cdc0a75-48e1-480f-8aae-490d9d37e41b",
      "metadata": {
        "execution": {
          "iopub.execute_input": "2022-11-20T04:12:48.462563Z",
          "iopub.status.busy": "2022-11-20T04:12:48.461728Z",
          "iopub.status.idle": "2022-11-20T04:12:48.470124Z",
          "shell.execute_reply": "2022-11-20T04:12:48.469321Z",
          "shell.execute_reply.started": "2022-11-20T04:12:48.462536Z"
        },
        "id": "5cdc0a75-48e1-480f-8aae-490d9d37e41b"
      },
      "outputs": [],
      "source": [
        "import torch.nn.functional as F\n",
        "EPOCHS = 10\n",
        "optimizer = optim.Adam(model.parameters(), lr=2e-5)\n",
        "total_steps = len(train_data_loader) * EPOCHS\n",
        "scheduler = get_linear_schedule_with_warmup(\n",
        "  optimizer,\n",
        "  num_warmup_steps=0,\n",
        "  num_training_steps=total_steps\n",
        ")\n",
        "loss_fn = nn.CrossEntropyLoss().to(device)"
      ]
    },
    {
      "cell_type": "code",
      "execution_count": 18,
      "id": "7804ef52-ee63-4282-b49b-72876d170e5a",
      "metadata": {
        "execution": {
          "iopub.execute_input": "2022-11-20T04:12:51.294459Z",
          "iopub.status.busy": "2022-11-20T04:12:51.294123Z",
          "iopub.status.idle": "2022-11-20T04:12:51.301210Z",
          "shell.execute_reply": "2022-11-20T04:12:51.300398Z",
          "shell.execute_reply.started": "2022-11-20T04:12:51.294435Z"
        },
        "id": "7804ef52-ee63-4282-b49b-72876d170e5a"
      },
      "outputs": [],
      "source": [
        "def train_epoch(\n",
        "  model,\n",
        "  data_loader,\n",
        "  loss_fn,\n",
        "  optimizer,\n",
        "  device,\n",
        "  scheduler,\n",
        "  n_examples\n",
        "):\n",
        "  model = model.train()\n",
        "  losses = []\n",
        "  correct_predictions = 0\n",
        "  for d in data_loader:\n",
        "    input_ids = d[\"input_ids\"].to(device)\n",
        "    attention_mask = d[\"attention_mask\"].to(device)\n",
        "    targets = d[\"targets\"].to(device)\n",
        "    outputs = model(\n",
        "      input_ids=input_ids,\n",
        "      attention_mask=attention_mask\n",
        "    )\n",
        "    _, preds = torch.max(outputs, dim=1)\n",
        "    loss = loss_fn(outputs, targets)\n",
        "    correct_predictions += torch.sum(preds == targets)\n",
        "    losses.append(loss.item())\n",
        "    loss.backward()\n",
        "    nn.utils.clip_grad_norm_(model.parameters(), max_norm=1.0)\n",
        "    optimizer.step()\n",
        "    scheduler.step()\n",
        "    optimizer.zero_grad()\n",
        "  return correct_predictions.double() / n_examples, np.mean(losses)"
      ]
    },
    {
      "cell_type": "code",
      "execution_count": 19,
      "id": "aed97892-26b1-4a32-83ff-573ca426c3dd",
      "metadata": {
        "execution": {
          "iopub.execute_input": "2022-11-20T04:12:54.436557Z",
          "iopub.status.busy": "2022-11-20T04:12:54.436232Z",
          "iopub.status.idle": "2022-11-20T04:12:54.442478Z",
          "shell.execute_reply": "2022-11-20T04:12:54.441701Z",
          "shell.execute_reply.started": "2022-11-20T04:12:54.436535Z"
        },
        "id": "aed97892-26b1-4a32-83ff-573ca426c3dd"
      },
      "outputs": [],
      "source": [
        "def eval_model(model, data_loader, loss_fn, device, n_examples):\n",
        "  model = model.eval()\n",
        "  losses = []\n",
        "  correct_predictions = 0\n",
        "  with torch.no_grad():\n",
        "    for d in data_loader:\n",
        "      input_ids = d[\"input_ids\"].to(device)\n",
        "      attention_mask = d[\"attention_mask\"].to(device)\n",
        "      targets = d[\"targets\"].to(device)\n",
        "      outputs = model(\n",
        "        input_ids=input_ids,\n",
        "        attention_mask=attention_mask\n",
        "      )\n",
        "      _, preds = torch.max(outputs, dim=1)\n",
        "      loss = loss_fn(outputs, targets)\n",
        "      correct_predictions += torch.sum(preds == targets)\n",
        "      losses.append(loss.item())\n",
        "  return correct_predictions.double() / n_examples, np.mean(losses)"
      ]
    },
    {
      "cell_type": "code",
      "execution_count": 20,
      "id": "31e86325-bfe9-4c43-8eb3-35e67e87f46f",
      "metadata": {
        "colab": {
          "base_uri": "https://localhost:8080/"
        },
        "execution": {
          "iopub.execute_input": "2022-11-20T04:12:57.891680Z",
          "iopub.status.busy": "2022-11-20T04:12:57.891350Z"
        },
        "id": "31e86325-bfe9-4c43-8eb3-35e67e87f46f",
        "outputId": "e68281f0-bdf5-403d-f1c0-e0b9df4eae94"
      },
      "outputs": [
        {
          "name": "stdout",
          "output_type": "stream",
          "text": [
            "Epoch 1/10\n",
            "----------\n",
            "Train loss 0.4295915647003895 accuracy 0.8557073954983923\n",
            "Val   loss 0.26020927493197793 accuracy 0.9293739967897271\n",
            "\n",
            "Epoch 2/10\n",
            "----------\n",
            "Train loss 0.219912125573804 accuracy 0.940112540192926\n",
            "Val   loss 0.29649645765909016 accuracy 0.9293739967897271\n",
            "\n",
            "Epoch 3/10\n",
            "----------\n",
            "Train loss 0.15251453871874568 accuracy 0.9638263665594855\n",
            "Val   loss 0.4432987650163854 accuracy 0.9101123595505618\n",
            "\n",
            "Epoch 4/10\n",
            "----------\n",
            "Train loss 0.11459757891656736 accuracy 0.9746784565916399\n",
            "Val   loss 0.37717377259515417 accuracy 0.9213483146067416\n",
            "\n",
            "Epoch 5/10\n",
            "----------\n",
            "Train loss 0.07765936134950234 accuracy 0.9823151125401929\n",
            "Val   loss 0.38664910087409693 accuracy 0.92776886035313\n",
            "\n",
            "Epoch 6/10\n",
            "----------\n",
            "Train loss 0.05576470322333849 accuracy 0.9879421221864951\n",
            "Val   loss 0.4140758126054723 accuracy 0.9261637239165329\n",
            "\n",
            "Epoch 7/10\n",
            "----------\n",
            "Train loss 0.047141012812528804 accuracy 0.989951768488746\n",
            "Val   loss 0.41696664766790587 accuracy 0.9293739967897271\n",
            "\n",
            "Epoch 8/10\n",
            "----------\n",
            "Train loss 0.03566026576206637 accuracy 0.9903536977491961\n",
            "Val   loss 0.42661314461535466 accuracy 0.9357945425361156\n",
            "\n",
            "Epoch 9/10\n",
            "----------\n",
            "Train loss 0.025105891799261697 accuracy 0.9911575562700965\n",
            "Val   loss 0.4348734474534957 accuracy 0.9325842696629213\n",
            "\n",
            "Epoch 10/10\n",
            "----------\n",
            "Train loss 0.021745159164614353 accuracy 0.9923633440514469\n",
            "Val   loss 0.43680756317021757 accuracy 0.9325842696629213\n",
            "\n"
          ]
        }
      ],
      "source": [
        "CUDA_LAUNCH_BLOCKING=1\n",
        "history = defaultdict(list)\n",
        "best_accuracy = 0\n",
        "for epoch in range(EPOCHS):\n",
        "  print(f'Epoch {epoch + 1}/{EPOCHS}')\n",
        "  print('-' * 10)\n",
        "  train_acc, train_loss = train_epoch(\n",
        "    model,\n",
        "    train_data_loader,\n",
        "    loss_fn,\n",
        "    optimizer,\n",
        "    device,\n",
        "    scheduler,\n",
        "    len(df_train)\n",
        "  )\n",
        "  print(f'Train loss {train_loss} accuracy {train_acc}')\n",
        "  val_acc, val_loss = eval_model(\n",
        "    model,\n",
        "    test_data_loader,\n",
        "    loss_fn,\n",
        "    device,\n",
        "    len(df_test)\n",
        "  )\n",
        "  print(f'Val   loss {val_loss} accuracy {val_acc}')\n",
        "  print()\n",
        "  history['train_acc'].append(train_acc)\n",
        "  history['train_loss'].append(train_loss)\n",
        "  history['val_acc'].append(val_acc)\n",
        "  history['val_loss'].append(val_loss)\n",
        "  if val_acc > best_accuracy:\n",
        "    torch.save(model.state_dict(), 'best_model_state.bin')\n",
        "    best_accuracy = val_acc"
      ]
    },
    {
      "cell_type": "code",
      "execution_count": 24,
      "id": "b26aecc9-fcaf-4085-bff9-77c523fe3410",
      "metadata": {
        "colab": {
          "base_uri": "https://localhost:8080/"
        },
        "execution": {
          "iopub.execute_input": "2022-10-28T02:16:07.288814Z",
          "iopub.status.busy": "2022-10-28T02:16:07.288292Z",
          "iopub.status.idle": "2022-10-28T02:16:12.043177Z",
          "shell.execute_reply": "2022-10-28T02:16:12.042023Z",
          "shell.execute_reply.started": "2022-10-28T02:16:07.288772Z"
        },
        "id": "b26aecc9-fcaf-4085-bff9-77c523fe3410",
        "outputId": "2147a76f-f344-4c39-e714-9a2d6ae84d8f"
      },
      "outputs": [
        {
          "name": "stderr",
          "output_type": "stream",
          "text": [
            "Some weights of the model checkpoint at bert-base-cased were not used when initializing BertModel: ['cls.predictions.transform.dense.weight', 'cls.predictions.bias', 'cls.seq_relationship.bias', 'cls.predictions.transform.LayerNorm.weight', 'cls.predictions.decoder.weight', 'cls.predictions.transform.LayerNorm.bias', 'cls.predictions.transform.dense.bias', 'cls.seq_relationship.weight']\n",
            "- This IS expected if you are initializing BertModel from the checkpoint of a model trained on another task or with another architecture (e.g. initializing a BertForSequenceClassification model from a BertForPreTraining model).\n",
            "- This IS NOT expected if you are initializing BertModel from the checkpoint of a model that you expect to be exactly identical (initializing a BertForSequenceClassification model from a BertForSequenceClassification model).\n"
          ]
        }
      ],
      "source": [
        "trained_model = SentimentClassifier(3)\n",
        "trained_model.load_state_dict(torch.load('best_model_state.bin'))\n",
        "trained_model = trained_model.to(device)"
      ]
    },
    {
      "cell_type": "code",
      "execution_count": 25,
      "id": "52af19f5-4169-449d-a1bc-5dc4dc32d424",
      "metadata": {
        "execution": {
          "iopub.execute_input": "2022-10-28T02:18:54.081632Z",
          "iopub.status.busy": "2022-10-28T02:18:54.080166Z",
          "iopub.status.idle": "2022-10-28T02:18:54.094009Z",
          "shell.execute_reply": "2022-10-28T02:18:54.092279Z",
          "shell.execute_reply.started": "2022-10-28T02:18:54.081567Z"
        },
        "id": "52af19f5-4169-449d-a1bc-5dc4dc32d424"
      },
      "outputs": [],
      "source": [
        "#data10k_loader = create_data_loader(data10k, tokenizer, MAX_LEN, BATCH_SIZE)\n",
        "def get_predictions(model, data_loader):\n",
        "  model = model.eval()\n",
        "  review_texts = []\n",
        "  predictions = []\n",
        "  prediction_probs = []\n",
        "  real_values = []\n",
        "  with torch.no_grad():\n",
        "    for d in data_loader:\n",
        "      texts = d[\"review_text\"]\n",
        "      input_ids = d[\"input_ids\"].to(device)\n",
        "      attention_mask = d[\"attention_mask\"].to(device)\n",
        "      targets = d[\"targets\"].to(device)\n",
        "      outputs = model(\n",
        "        input_ids=input_ids,\n",
        "        attention_mask=attention_mask\n",
        "      )\n",
        "      _, preds = torch.max(outputs, dim=1)\n",
        "      review_texts.extend(texts)\n",
        "      predictions.extend(preds)\n",
        "      prediction_probs.extend(outputs)\n",
        "      real_values.extend(targets)\n",
        "  predictions = torch.stack(predictions).cpu()\n",
        "  prediction_probs = torch.stack(prediction_probs).cpu()\n",
        "  real_values = torch.stack(real_values).cpu()\n",
        "  return review_texts, predictions, prediction_probs, real_values"
      ]
    },
    {
      "cell_type": "code",
      "execution_count": 53,
      "id": "sJOmApajn3c-",
      "metadata": {
        "colab": {
          "base_uri": "https://localhost:8080/",
          "height": 206
        },
        "id": "sJOmApajn3c-",
        "outputId": "e5c03687-7046-4c5f-d346-9983e98e3bf4"
      },
      "outputs": [
        {
          "data": {
            "text/html": [
              "\n",
              "  <div id=\"df-63987076-17d4-437d-b213-413878616549\">\n",
              "    <div class=\"colab-df-container\">\n",
              "      <div>\n",
              "<style scoped>\n",
              "    .dataframe tbody tr th:only-of-type {\n",
              "        vertical-align: middle;\n",
              "    }\n",
              "\n",
              "    .dataframe tbody tr th {\n",
              "        vertical-align: top;\n",
              "    }\n",
              "\n",
              "    .dataframe thead th {\n",
              "        text-align: right;\n",
              "    }\n",
              "</style>\n",
              "<table border=\"1\" class=\"dataframe\">\n",
              "  <thead>\n",
              "    <tr style=\"text-align: right;\">\n",
              "      <th></th>\n",
              "      <th>text</th>\n",
              "      <th>label</th>\n",
              "    </tr>\n",
              "  </thead>\n",
              "  <tbody>\n",
              "    <tr>\n",
              "      <th>0</th>\n",
              "      <td>Bitcoin is already democratic, and always has ...</td>\n",
              "      <td>2</td>\n",
              "    </tr>\n",
              "    <tr>\n",
              "      <th>1</th>\n",
              "      <td>Remember the last time they reported on Bitcoi...</td>\n",
              "      <td>2</td>\n",
              "    </tr>\n",
              "    <tr>\n",
              "      <th>2</th>\n",
              "      <td>There's always bitcoin!</td>\n",
              "      <td>2</td>\n",
              "    </tr>\n",
              "    <tr>\n",
              "      <th>3</th>\n",
              "      <td>Do you by chance take Bitcoin?</td>\n",
              "      <td>2</td>\n",
              "    </tr>\n",
              "    <tr>\n",
              "      <th>4</th>\n",
              "      <td>Just use Bitcoin already.</td>\n",
              "      <td>2</td>\n",
              "    </tr>\n",
              "  </tbody>\n",
              "</table>\n",
              "</div>\n",
              "      <button class=\"colab-df-convert\" onclick=\"convertToInteractive('df-63987076-17d4-437d-b213-413878616549')\"\n",
              "              title=\"Convert this dataframe to an interactive table.\"\n",
              "              style=\"display:none;\">\n",
              "        \n",
              "  <svg xmlns=\"http://www.w3.org/2000/svg\" height=\"24px\"viewBox=\"0 0 24 24\"\n",
              "       width=\"24px\">\n",
              "    <path d=\"M0 0h24v24H0V0z\" fill=\"none\"/>\n",
              "    <path d=\"M18.56 5.44l.94 2.06.94-2.06 2.06-.94-2.06-.94-.94-2.06-.94 2.06-2.06.94zm-11 1L8.5 8.5l.94-2.06 2.06-.94-2.06-.94L8.5 2.5l-.94 2.06-2.06.94zm10 10l.94 2.06.94-2.06 2.06-.94-2.06-.94-.94-2.06-.94 2.06-2.06.94z\"/><path d=\"M17.41 7.96l-1.37-1.37c-.4-.4-.92-.59-1.43-.59-.52 0-1.04.2-1.43.59L10.3 9.45l-7.72 7.72c-.78.78-.78 2.05 0 2.83L4 21.41c.39.39.9.59 1.41.59.51 0 1.02-.2 1.41-.59l7.78-7.78 2.81-2.81c.8-.78.8-2.07 0-2.86zM5.41 20L4 18.59l7.72-7.72 1.47 1.35L5.41 20z\"/>\n",
              "  </svg>\n",
              "      </button>\n",
              "      \n",
              "  <style>\n",
              "    .colab-df-container {\n",
              "      display:flex;\n",
              "      flex-wrap:wrap;\n",
              "      gap: 12px;\n",
              "    }\n",
              "\n",
              "    .colab-df-convert {\n",
              "      background-color: #E8F0FE;\n",
              "      border: none;\n",
              "      border-radius: 50%;\n",
              "      cursor: pointer;\n",
              "      display: none;\n",
              "      fill: #1967D2;\n",
              "      height: 32px;\n",
              "      padding: 0 0 0 0;\n",
              "      width: 32px;\n",
              "    }\n",
              "\n",
              "    .colab-df-convert:hover {\n",
              "      background-color: #E2EBFA;\n",
              "      box-shadow: 0px 1px 2px rgba(60, 64, 67, 0.3), 0px 1px 3px 1px rgba(60, 64, 67, 0.15);\n",
              "      fill: #174EA6;\n",
              "    }\n",
              "\n",
              "    [theme=dark] .colab-df-convert {\n",
              "      background-color: #3B4455;\n",
              "      fill: #D2E3FC;\n",
              "    }\n",
              "\n",
              "    [theme=dark] .colab-df-convert:hover {\n",
              "      background-color: #434B5C;\n",
              "      box-shadow: 0px 1px 3px 1px rgba(0, 0, 0, 0.15);\n",
              "      filter: drop-shadow(0px 1px 2px rgba(0, 0, 0, 0.3));\n",
              "      fill: #FFFFFF;\n",
              "    }\n",
              "  </style>\n",
              "\n",
              "      <script>\n",
              "        const buttonEl =\n",
              "          document.querySelector('#df-63987076-17d4-437d-b213-413878616549 button.colab-df-convert');\n",
              "        buttonEl.style.display =\n",
              "          google.colab.kernel.accessAllowed ? 'block' : 'none';\n",
              "\n",
              "        async function convertToInteractive(key) {\n",
              "          const element = document.querySelector('#df-63987076-17d4-437d-b213-413878616549');\n",
              "          const dataTable =\n",
              "            await google.colab.kernel.invokeFunction('convertToInteractive',\n",
              "                                                     [key], {});\n",
              "          if (!dataTable) return;\n",
              "\n",
              "          const docLinkHtml = 'Like what you see? Visit the ' +\n",
              "            '<a target=\"_blank\" href=https://colab.research.google.com/notebooks/data_table.ipynb>data table notebook</a>'\n",
              "            + ' to learn more about interactive tables.';\n",
              "          element.innerHTML = '';\n",
              "          dataTable['output_type'] = 'display_data';\n",
              "          await google.colab.output.renderOutput(dataTable, element);\n",
              "          const docLink = document.createElement('div');\n",
              "          docLink.innerHTML = docLinkHtml;\n",
              "          element.appendChild(docLink);\n",
              "        }\n",
              "      </script>\n",
              "    </div>\n",
              "  </div>\n",
              "  "
            ],
            "text/plain": [
              "                                                text  label\n",
              "0  Bitcoin is already democratic, and always has ...      2\n",
              "1  Remember the last time they reported on Bitcoi...      2\n",
              "2                            There's always bitcoin!      2\n",
              "3                     Do you by chance take Bitcoin?      2\n",
              "4                          Just use Bitcoin already.      2"
            ]
          },
          "execution_count": 53,
          "metadata": {},
          "output_type": "execute_result"
        }
      ],
      "source": [
        "df2 = pd.read_csv(\"/content/df2000.csv\")"
      ]
    },
    {
      "cell_type": "code",
      "execution_count": 54,
      "id": "LYINCOhLqkty",
      "metadata": {
        "colab": {
          "base_uri": "https://localhost:8080/"
        },
        "id": "LYINCOhLqkty",
        "outputId": "cf897a2b-ef7b-4e21-b38b-8e3b4ce63566"
      },
      "outputs": [
        {
          "data": {
            "text/plain": [
              "(2000, 2)"
            ]
          },
          "execution_count": 54,
          "metadata": {},
          "output_type": "execute_result"
        }
      ],
      "source": [
        "df2.shape"
      ]
    },
    {
      "cell_type": "code",
      "execution_count": 64,
      "id": "6bn443sWlg7L",
      "metadata": {
        "id": "6bn443sWlg7L"
      },
      "outputs": [],
      "source": [
        "test2_data_loader = create_data_loader(df2, tokenizer, MAX_LEN, BATCH_SIZE)"
      ]
    },
    {
      "cell_type": "code",
      "execution_count": 65,
      "id": "3259377e-f579-4586-bc8e-3c8f9a7761cc",
      "metadata": {
        "colab": {
          "base_uri": "https://localhost:8080/"
        },
        "execution": {
          "iopub.execute_input": "2022-10-28T02:20:20.191138Z",
          "iopub.status.busy": "2022-10-28T02:20:20.190753Z",
          "iopub.status.idle": "2022-10-28T02:20:45.043908Z",
          "shell.execute_reply": "2022-10-28T02:20:45.041289Z",
          "shell.execute_reply.started": "2022-10-28T02:20:20.191110Z"
        },
        "id": "3259377e-f579-4586-bc8e-3c8f9a7761cc",
        "outputId": "687d7b3f-0648-4740-c51c-e890a07b2138"
      },
      "outputs": [
        {
          "name": "stdout",
          "output_type": "stream",
          "text": [
            "              precision    recall  f1-score   support\n",
            "\n",
            "           0       0.94      0.92      0.93       432\n",
            "           1       0.93      0.83      0.88       661\n",
            "           2       0.89      0.97      0.93       907\n",
            "\n",
            "    accuracy                           0.91      2000\n",
            "   macro avg       0.92      0.91      0.91      2000\n",
            "weighted avg       0.91      0.91      0.91      2000\n",
            "\n"
          ]
        }
      ],
      "source": [
        "y_review_texts, y_pred, y_pred_probs, y_test = get_predictions(\n",
        "  trained_model,\n",
        "  test2_data_loader\n",
        ")\n",
        "print(classification_report(y_test, y_pred))"
      ]
    },
    {
      "cell_type": "code",
      "execution_count": 66,
      "id": "330170be-1b34-48f5-9211-37beb580fa03",
      "metadata": {
        "colab": {
          "base_uri": "https://localhost:8080/",
          "height": 534
        },
        "execution": {
          "iopub.execute_input": "2022-10-28T02:25:58.520011Z",
          "iopub.status.busy": "2022-10-28T02:25:58.519554Z",
          "iopub.status.idle": "2022-10-28T02:25:59.001326Z",
          "shell.execute_reply": "2022-10-28T02:25:58.998057Z",
          "shell.execute_reply.started": "2022-10-28T02:25:58.519968Z"
        },
        "id": "330170be-1b34-48f5-9211-37beb580fa03",
        "outputId": "ccf0f640-9e88-44ea-b030-06469dfecfce"
      },
      "outputs": [
        {
          "data": {
            "image/png": "[encoded data removed]",
            "text/plain": [
              "<Figure size 864x576 with 2 Axes>"
            ]
          },
          "metadata": {
            "image/png": {
              "height": 517,
              "width": 726
            }
          },
          "output_type": "display_data"
        }
      ],
      "source": [
        "class_names = ['Negative', 'Neutral', 'Positive']\n",
        "def show_confusion_matrix(confusion_matrix):\n",
        "  hmap = sns.heatmap(confusion_matrix, annot=True, fmt=\"d\", cmap=\"Blues\")\n",
        "  hmap.yaxis.set_ticklabels(hmap.yaxis.get_ticklabels(), rotation=0, ha='right')\n",
        "  hmap.xaxis.set_ticklabels(hmap.xaxis.get_ticklabels(), rotation=30, ha='right')\n",
        "  plt.ylabel('True sentiment')\n",
        "  plt.xlabel('Predicted sentiment');\n",
        "cm = confusion_matrix(y_test, y_pred)\n",
        "df_cm = pd.DataFrame(cm, index=class_names, columns=class_names)\n",
        "show_confusion_matrix(df_cm)"
      ]
    }
  ],
  "metadata": {
    "accelerator": "GPU",
    "colab": {
      "machine_shape": "hm",
      "provenance": []
    },
    "gpuClass": "standard",
    "kernelspec": {
      "display_name": "Python 3.6.13 ('base')",
      "language": "python",
      "name": "python3"
    },
    "language_info": {
      "codemirror_mode": {
        "name": "ipython",
        "version": 3
      },
      "file_extension": ".py",
      "mimetype": "text/x-python",
      "name": "python",
      "nbconvert_exporter": "python",
      "pygments_lexer": "ipython3",
      "version": "3.6.13"
    },
    "vscode": {
      "interpreter": {
        "hash": "01ea21ff6a4f3074a68e71f39f127958401068994ac911c4fa7f15f5a28521f3"
      }
    }
  },
  "nbformat": 4,
  "nbformat_minor": 5
}

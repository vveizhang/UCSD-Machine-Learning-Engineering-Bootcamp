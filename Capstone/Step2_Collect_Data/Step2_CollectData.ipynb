{
 "cells": [
  {
   "cell_type": "code",
   "execution_count": 1,
   "metadata": {},
   "outputs": [],
   "source": [
    "from psaw import PushshiftAPI    #library Pushshift\n",
    "import datetime as dt            #library for date management\n",
    "import pandas as pd                         #library for data manipulation\n",
    "import matplotlib.pyplot as plt  #library for plotting"
   ]
  },
  {
   "cell_type": "code",
   "execution_count": 2,
   "metadata": {},
   "outputs": [],
   "source": [
    "api = PushshiftAPI()"
   ]
  },
  {
   "cell_type": "code",
   "execution_count": 4,
   "metadata": {},
   "outputs": [],
   "source": [
    "def data_prep_comments(term, start_time, end_time, filters, limit):\n",
    "    if (len(filters) == 0):\n",
    "        filters = ['id', 'author', 'created_utc',\n",
    "                   'body', 'permalink', 'subreddit']\n",
    "                   #We set by default some usefull columns \n",
    "\n",
    "    comments = list(api.search_comments(\n",
    "        q=term,                 #Subreddit we want to audit\n",
    "        after=start_time,       #Start date\n",
    "        before=end_time,        #End date\n",
    "        filter=filters,         #Column names we want to retrieve\n",
    "        limit=limit))           #Max number of comments\n",
    "    return pd.DataFrame(comments) #Return dataframe for analysis\n"
   ]
  },
  {
   "cell_type": "code",
   "execution_count": 5,
   "metadata": {},
   "outputs": [
    {
     "name": "stderr",
     "output_type": "stream",
    },
    {
     "data": {
      "text/plain": [
       "(3367, 8)"
      ]
     },
     "execution_count": 5,
     "metadata": {},
     "output_type": "execute_result"
    }
   ],
   "source": [
    "test = data_prep_comments(\"bitcoin\", start_time=int(dt.datetime(2022, 7, 1).timestamp()), end_time=  int(dt.datetime(2022, 7, 2).timestamp()),\n",
    "                                                    filters = [], limit = 2000000)\n",
    "test.shape                                                    "
   ]
  },
  {
   "cell_type": "code",
   "execution_count": 31,
   "metadata": {},
   "outputs": [
    {
     "data": {
      "text/html": [
       "<div>\n",
       "<style scoped>\n",
       "    .dataframe tbody tr th:only-of-type {\n",
       "        vertical-align: middle;\n",
       "    }\n",
       "\n",
       "    .dataframe tbody tr th {\n",
       "        vertical-align: top;\n",
       "    }\n",
       "\n",
       "    .dataframe thead th {\n",
       "        text-align: right;\n",
       "    }\n",
       "</style>\n",
       "<table border=\"1\" class=\"dataframe\">\n",
       "  <thead>\n",
       "    <tr style=\"text-align: right;\">\n",
       "      <th></th>\n",
       "      <th>author</th>\n",
       "      <th>body</th>\n",
       "      <th>created_utc</th>\n",
       "      <th>id</th>\n",
       "      <th>permalink</th>\n",
       "      <th>subreddit</th>\n",
       "      <th>created</th>\n",
       "      <th>d_</th>\n",
       "    </tr>\n",
       "  </thead>\n",
       "  <tbody>\n",
       "    <tr>\n",
       "      <th>0</th>\n",
       "      <td>darkempath</td>\n",
       "      <td>&amp;gt;Let's give crypto a chance first.\\n\\nNo.\\n...</td>\n",
       "      <td>1667105998</td>\n",
       "      <td>iuc4dx2</td>\n",
       "      <td>/r/australia/comments/yh1iec/should_cash_make_...</td>\n",
       "      <td>australia</td>\n",
       "      <td>1.667124e+09</td>\n",
       "      <td>{'author': 'darkempath', 'body': '&amp;gt;Let's gi...</td>\n",
       "    </tr>\n",
       "    <tr>\n",
       "      <th>1</th>\n",
       "      <td>regionrattt</td>\n",
       "      <td>Bitcoin</td>\n",
       "      <td>1667105972</td>\n",
       "      <td>iuc4cj3</td>\n",
       "      <td>/r/personalfinance/comments/ygymzn/i_have_abou...</td>\n",
       "      <td>personalfinance</td>\n",
       "      <td>1.667124e+09</td>\n",
       "      <td>{'author': 'regionrattt', 'body': 'Bitcoin', '...</td>\n",
       "    </tr>\n",
       "    <tr>\n",
       "      <th>2</th>\n",
       "      <td>SydneyOrient</td>\n",
       "      <td>What is bitcoin</td>\n",
       "      <td>1667105926</td>\n",
       "      <td>iuc4a1e</td>\n",
       "      <td>/r/cryptocurrencymemes/comments/yh4te1/make_th...</td>\n",
       "      <td>cryptocurrencymemes</td>\n",
       "      <td>1.667124e+09</td>\n",
       "      <td>{'author': 'SydneyOrient', 'body': 'What is bi...</td>\n",
       "    </tr>\n",
       "    <tr>\n",
       "      <th>3</th>\n",
       "      <td>Magnus826</td>\n",
       "      <td>The key is understanding how the halving cycle...</td>\n",
       "      <td>1667105900</td>\n",
       "      <td>iuc48nl</td>\n",
       "      <td>/r/Bitcoin/comments/ygmmxg/trade_or_accumulate...</td>\n",
       "      <td>Bitcoin</td>\n",
       "      <td>1.667124e+09</td>\n",
       "      <td>{'author': 'Magnus826', 'body': 'The key is un...</td>\n",
       "    </tr>\n",
       "    <tr>\n",
       "      <th>4</th>\n",
       "      <td>igadjeed</td>\n",
       "      <td>&amp;gt; Does it mean Earth will be the only one t...</td>\n",
       "      <td>1667105860</td>\n",
       "      <td>iuc46jm</td>\n",
       "      <td>/r/Bitcoin/comments/ygldyx/multiplanetary_bloc...</td>\n",
       "      <td>Bitcoin</td>\n",
       "      <td>1.667124e+09</td>\n",
       "      <td>{'author': 'igadjeed', 'body': '&amp;gt; Does it m...</td>\n",
       "    </tr>\n",
       "  </tbody>\n",
       "</table>\n",
       "</div>"
      ],
      "text/plain": [
       "         author                                               body  \\\n",
       "0    darkempath  &gt;Let's give crypto a chance first.\\n\\nNo.\\n...   \n",
       "1   regionrattt                                            Bitcoin   \n",
       "2  SydneyOrient                                    What is bitcoin   \n",
       "3     Magnus826  The key is understanding how the halving cycle...   \n",
       "4      igadjeed  &gt; Does it mean Earth will be the only one t...   \n",
       "\n",
       "   created_utc       id                                          permalink  \\\n",
       "0   1667105998  iuc4dx2  /r/australia/comments/yh1iec/should_cash_make_...   \n",
       "1   1667105972  iuc4cj3  /r/personalfinance/comments/ygymzn/i_have_abou...   \n",
       "2   1667105926  iuc4a1e  /r/cryptocurrencymemes/comments/yh4te1/make_th...   \n",
       "3   1667105900  iuc48nl  /r/Bitcoin/comments/ygmmxg/trade_or_accumulate...   \n",
       "4   1667105860  iuc46jm  /r/Bitcoin/comments/ygldyx/multiplanetary_bloc...   \n",
       "\n",
       "             subreddit       created  \\\n",
       "0            australia  1.667124e+09   \n",
       "1      personalfinance  1.667124e+09   \n",
       "2  cryptocurrencymemes  1.667124e+09   \n",
       "3              Bitcoin  1.667124e+09   \n",
       "4              Bitcoin  1.667124e+09   \n",
       "\n",
       "                                                  d_  \n",
       "0  {'author': 'darkempath', 'body': '&gt;Let's gi...  \n",
       "1  {'author': 'regionrattt', 'body': 'Bitcoin', '...  \n",
       "2  {'author': 'SydneyOrient', 'body': 'What is bi...  \n",
       "3  {'author': 'Magnus826', 'body': 'The key is un...  \n",
       "4  {'author': 'igadjeed', 'body': '&gt; Does it m...  "
      ]
     },
     "execution_count": 31,
     "metadata": {},
     "output_type": "execute_result"
    }
   ],
   "source": [
    "test.head()"
   ]
  },
  {
   "cell_type": "code",
   "execution_count": 6,
   "metadata": {},
   "outputs": [],
   "source": [
    "test.to_csv(\"reddit_bitcoin_20220701_20220702.csv\")"
   ]
  }
 ],
 "metadata": {
  "kernelspec": {
   "display_name": "Python 3.6.13 ('base')",
   "language": "python",
   "name": "python3"
  },
  "language_info": {
   "codemirror_mode": {
    "name": "ipython",
    "version": 3
   },
   "file_extension": ".py",
   "mimetype": "text/x-python",
   "name": "python",
   "nbconvert_exporter": "python",
   "pygments_lexer": "ipython3",
   "version": "3.6.13"
  },
  "orig_nbformat": 4,
  "vscode": {
   "interpreter": {
    "hash": "01ea21ff6a4f3074a68e71f39f127958401068994ac911c4fa7f15f5a28521f3"
   }
  }
 },
 "nbformat": 4,
 "nbformat_minor": 2
}

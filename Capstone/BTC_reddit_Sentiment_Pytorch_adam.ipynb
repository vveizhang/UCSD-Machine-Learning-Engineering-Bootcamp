{
 "cells": [
  {
   "cell_type": "code",
   "execution_count": 1,
   "id": "5cd86c34-43be-4106-8ceb-bb59886b0a8e",
   "metadata": {
    "execution": {
     "iopub.execute_input": "2022-10-12T16:38:26.740356Z",
     "iopub.status.busy": "2022-10-12T16:38:26.739733Z",
     "iopub.status.idle": "2022-10-12T16:38:33.204406Z",
     "shell.execute_reply": "2022-10-12T16:38:33.203578Z",
     "shell.execute_reply.started": "2022-10-12T16:38:26.740279Z"
    }
   },
   "outputs": [],
   "source": [
    "import transformers\n",
    "from transformers import BertModel, BertTokenizer, AdamW, get_linear_schedule_with_warmup\n",
    "import torch\n",
    "import numpy as np\n",
    "import pandas as pd\n",
    "import seaborn as sns\n",
    "from pylab import rcParams\n",
    "import matplotlib.pyplot as plt\n",
    "from matplotlib import rc\n",
    "from sklearn.model_selection import train_test_split\n",
    "from sklearn.metrics import confusion_matrix, classification_report\n",
    "from collections import defaultdict\n",
    "from textwrap import wrap\n",
    "from torch import nn, optim\n",
    "from torch.utils.data import Dataset, DataLoader\n",
    "%matplotlib inline\n",
    "%config InlineBackend.figure_format='retina'\n",
    "sns.set(style='whitegrid', palette='muted', font_scale=1.2)\n",
    "HAPPY_COLORS_PALETTE = [\"#01BEFE\", \"#FFDD00\", \"#FF7D00\", \"#FF006D\", \"#ADFF02\", \"#8F00FF\"]\n",
    "sns.set_palette(sns.color_palette(HAPPY_COLORS_PALETTE))\n",
    "rcParams['figure.figsize'] = 12, 8\n",
    "RANDOM_SEED = 42\n",
    "np.random.seed(RANDOM_SEED)\n",
    "torch.manual_seed(RANDOM_SEED)\n",
    "device = torch.device(\"cuda:0\" if torch.cuda.is_available() else \"cpu\")"
   ]
  },
  {
   "cell_type": "code",
   "execution_count": 2,
   "id": "48dddc07-14b2-486e-a382-76c999d3656a",
   "metadata": {
    "execution": {
     "iopub.execute_input": "2022-10-12T16:38:33.206384Z",
     "iopub.status.busy": "2022-10-12T16:38:33.205884Z",
     "iopub.status.idle": "2022-10-12T16:38:33.239163Z",
     "shell.execute_reply": "2022-10-12T16:38:33.238427Z",
     "shell.execute_reply.started": "2022-10-12T16:38:33.206358Z"
    }
   },
   "outputs": [
    {
     "data": {
      "text/html": [
       "<div>\n",
       "<style scoped>\n",
       "    .dataframe tbody tr th:only-of-type {\n",
       "        vertical-align: middle;\n",
       "    }\n",
       "\n",
       "    .dataframe tbody tr th {\n",
       "        vertical-align: top;\n",
       "    }\n",
       "\n",
       "    .dataframe thead th {\n",
       "        text-align: right;\n",
       "    }\n",
       "</style>\n",
       "<table border=\"1\" class=\"dataframe\">\n",
       "  <thead>\n",
       "    <tr style=\"text-align: right;\">\n",
       "      <th></th>\n",
       "      <th>body</th>\n",
       "      <th>label</th>\n",
       "    </tr>\n",
       "  </thead>\n",
       "  <tbody>\n",
       "    <tr>\n",
       "      <th>0</th>\n",
       "      <td>it may be considered currency and creating you...</td>\n",
       "      <td>Negative</td>\n",
       "    </tr>\n",
       "    <tr>\n",
       "      <th>1</th>\n",
       "      <td>You can get hold of it on [Silk Road](http://g...</td>\n",
       "      <td>Negative</td>\n",
       "    </tr>\n",
       "    <tr>\n",
       "      <th>2</th>\n",
       "      <td>They buy bitcoin with any dollars you have, an...</td>\n",
       "      <td>Negative</td>\n",
       "    </tr>\n",
       "    <tr>\n",
       "      <th>3</th>\n",
       "      <td>Am I the only person that thinks TSR is a hone...</td>\n",
       "      <td>Negative</td>\n",
       "    </tr>\n",
       "    <tr>\n",
       "      <th>4</th>\n",
       "      <td>Why Man, what are you doing that could need th...</td>\n",
       "      <td>Negative</td>\n",
       "    </tr>\n",
       "  </tbody>\n",
       "</table>\n",
       "</div>"
      ],
      "text/plain": [
       "                                                body     label\n",
       "0  it may be considered currency and creating you...  Negative\n",
       "1  You can get hold of it on [Silk Road](http://g...  Negative\n",
       "2  They buy bitcoin with any dollars you have, an...  Negative\n",
       "3  Am I the only person that thinks TSR is a hone...  Negative\n",
       "4  Why Man, what are you doing that could need th...  Negative"
      ]
     },
     "execution_count": 2,
     "metadata": {},
     "output_type": "execute_result"
    }
   ],
   "source": [
    "df = pd.read_csv(\"/notebooks/reddit_bitcoin_labelled.csv\",encoding=\"ISO-8859-1\")\n",
    "df.head()"
   ]
  },
  {
   "cell_type": "code",
   "execution_count": 3,
   "id": "7c01e7d5-d5ad-46d4-b0a8-fa50fb87410c",
   "metadata": {
    "execution": {
     "iopub.execute_input": "2022-10-12T16:38:33.240476Z",
     "iopub.status.busy": "2022-10-12T16:38:33.240195Z",
     "iopub.status.idle": "2022-10-12T16:38:33.247568Z",
     "shell.execute_reply": "2022-10-12T16:38:33.246659Z",
     "shell.execute_reply.started": "2022-10-12T16:38:33.240453Z"
    }
   },
   "outputs": [
    {
     "data": {
      "text/plain": [
       "Positive    1505\n",
       "Negative    1236\n",
       "Neutral     1064\n",
       "Name: label, dtype: int64"
      ]
     },
     "execution_count": 3,
     "metadata": {},
     "output_type": "execute_result"
    }
   ],
   "source": [
    "df.label.value_counts()"
   ]
  },
  {
   "cell_type": "code",
   "execution_count": 4,
   "id": "6f247fdc-8a26-48ac-a38c-f6b1d710ec94",
   "metadata": {
    "execution": {
     "iopub.execute_input": "2022-10-12T16:38:33.249666Z",
     "iopub.status.busy": "2022-10-12T16:38:33.249407Z",
     "iopub.status.idle": "2022-10-12T16:38:33.260062Z",
     "shell.execute_reply": "2022-10-12T16:38:33.258865Z",
     "shell.execute_reply.started": "2022-10-12T16:38:33.249644Z"
    }
   },
   "outputs": [
    {
     "data": {
      "text/plain": [
       "2    1505\n",
       "0    1236\n",
       "1    1064\n",
       "Name: sentiment, dtype: int64"
      ]
     },
     "execution_count": 4,
     "metadata": {},
     "output_type": "execute_result"
    }
   ],
   "source": [
    "def to_sentiment(label):\n",
    "  label = str(label)\n",
    "  if label == \"Negative\":\n",
    "    return 0\n",
    "  if label == \"Neutral\":\n",
    "    return 1\n",
    "  if label == \"Positive\":\n",
    "    return 2\n",
    "df['sentiment'] = df.label.apply(to_sentiment)\n",
    "df['sentiment'].value_counts()"
   ]
  },
  {
   "cell_type": "code",
   "execution_count": 5,
   "id": "2b658030-a33d-4b0c-bc44-8500116a8aa0",
   "metadata": {
    "execution": {
     "iopub.execute_input": "2022-10-12T16:38:33.261419Z",
     "iopub.status.busy": "2022-10-12T16:38:33.261075Z",
     "iopub.status.idle": "2022-10-12T16:38:33.272431Z",
     "shell.execute_reply": "2022-10-12T16:38:33.271406Z",
     "shell.execute_reply.started": "2022-10-12T16:38:33.261338Z"
    }
   },
   "outputs": [
    {
     "name": "stdout",
     "output_type": "stream",
     "text": [
      "Empty DataFrame\n",
      "Columns: [body, label, sentiment]\n",
      "Index: []\n"
     ]
    },
    {
     "data": {
      "text/plain": [
       "(3805, 3)"
      ]
     },
     "execution_count": 5,
     "metadata": {},
     "output_type": "execute_result"
    }
   ],
   "source": [
    "print(df[df['sentiment'].isnull()])\n",
    "df = df.dropna(subset = ['sentiment'])\n",
    "df.shape"
   ]
  },
  {
   "cell_type": "code",
   "execution_count": 6,
   "id": "8df393de-7a0d-4c0b-bf42-eab77895b153",
   "metadata": {
    "execution": {
     "iopub.execute_input": "2022-10-12T16:38:33.273733Z",
     "iopub.status.busy": "2022-10-12T16:38:33.273442Z",
     "iopub.status.idle": "2022-10-12T16:38:33.632126Z",
     "shell.execute_reply": "2022-10-12T16:38:33.631245Z",
     "shell.execute_reply.started": "2022-10-12T16:38:33.273708Z"
    }
   },
   "outputs": [],
   "source": [
    "PRE_TRAINED_MODEL_NAME = 'bert-base-cased'\n",
    "tokenizer = BertTokenizer.from_pretrained(PRE_TRAINED_MODEL_NAME)"
   ]
  },
  {
   "cell_type": "code",
   "execution_count": 7,
   "id": "ba49e84c-9b89-4a0a-9249-61ce5c003731",
   "metadata": {
    "execution": {
     "iopub.execute_input": "2022-10-12T16:38:33.633386Z",
     "iopub.status.busy": "2022-10-12T16:38:33.633070Z",
     "iopub.status.idle": "2022-10-12T16:38:33.639127Z",
     "shell.execute_reply": "2022-10-12T16:38:33.638178Z",
     "shell.execute_reply.started": "2022-10-12T16:38:33.633333Z"
    }
   },
   "outputs": [
    {
     "name": "stdout",
     "output_type": "stream",
     "text": [
      "[SEP] 102\n",
      "[CLS] 101\n",
      "[PAD] 0\n",
      "[UNK] 100\n"
     ]
    }
   ],
   "source": [
    "print(tokenizer.sep_token, tokenizer.sep_token_id)\n",
    "print(tokenizer.cls_token, tokenizer.cls_token_id)\n",
    "print(tokenizer.pad_token, tokenizer.pad_token_id)\n",
    "print(tokenizer.unk_token, tokenizer.unk_token_id)"
   ]
  },
  {
   "cell_type": "code",
   "execution_count": 8,
   "id": "2ce4b286-86bd-4668-aab2-41a29ca4a7dc",
   "metadata": {
    "execution": {
     "iopub.execute_input": "2022-10-12T16:38:33.640471Z",
     "iopub.status.busy": "2022-10-12T16:38:33.640239Z",
     "iopub.status.idle": "2022-10-12T16:38:33.650318Z",
     "shell.execute_reply": "2022-10-12T16:38:33.649543Z",
     "shell.execute_reply.started": "2022-10-12T16:38:33.640448Z"
    }
   },
   "outputs": [
    {
     "name": "stderr",
     "output_type": "stream",
     "text": [
      "/usr/local/lib/python3.9/dist-packages/transformers/tokenization_utils_base.py:2301: FutureWarning: The `pad_to_max_length` argument is deprecated and will be removed in a future version, use `padding=True` or `padding='longest'` to pad to the longest sequence in the batch, or use `padding='max_length'` to pad to a max length. In this case, you can give a specific length with `max_length` (e.g. `max_length=45`) or leave max_length to None to pad to the maximal input size of the model (e.g. 512 for Bert).\n",
      "  warnings.warn(\n"
     ]
    },
    {
     "data": {
      "text/plain": [
       "dict_keys(['input_ids', 'attention_mask'])"
      ]
     },
     "execution_count": 8,
     "metadata": {},
     "output_type": "execute_result"
    }
   ],
   "source": [
    "sample_txt = 'When was I last outside? I am stuck at home for 2 weeks.'\n",
    "encoding = tokenizer.encode_plus(\n",
    "  sample_txt,\n",
    "  #max_length=128,\n",
    "  add_special_tokens=True, # Add '[CLS]' and '[SEP]'\n",
    "  return_token_type_ids=False,\n",
    "  pad_to_max_length=True,\n",
    "  return_attention_mask=True,\n",
    "  return_tensors='pt',  # Return PyTorch tensors\n",
    ")\n",
    "encoding.keys()"
   ]
  },
  {
   "cell_type": "code",
   "execution_count": 9,
   "id": "3e57d481-72a7-40ed-b1ed-fa895a9bdd0a",
   "metadata": {
    "execution": {
     "iopub.execute_input": "2022-10-12T16:38:33.651723Z",
     "iopub.status.busy": "2022-10-12T16:38:33.651433Z",
     "iopub.status.idle": "2022-10-12T16:38:33.655724Z",
     "shell.execute_reply": "2022-10-12T16:38:33.654959Z",
     "shell.execute_reply.started": "2022-10-12T16:38:33.651701Z"
    }
   },
   "outputs": [],
   "source": [
    "import warnings\n",
    "warnings.filterwarnings('ignore')"
   ]
  },
  {
   "cell_type": "code",
   "execution_count": 10,
   "id": "741a33f5-6390-463f-8145-7297c9f1bea4",
   "metadata": {
    "execution": {
     "iopub.execute_input": "2022-10-12T16:38:33.659274Z",
     "iopub.status.busy": "2022-10-12T16:38:33.658989Z",
     "iopub.status.idle": "2022-10-12T16:38:36.376688Z",
     "shell.execute_reply": "2022-10-12T16:38:36.375774Z",
     "shell.execute_reply.started": "2022-10-12T16:38:33.659248Z"
    }
   },
   "outputs": [
    {
     "name": "stderr",
     "output_type": "stream",
     "text": [
      "Truncation was not explicitly activated but `max_length` is provided a specific value, please use `truncation=True` to explicitly truncate examples to max length. Defaulting to 'longest_first' truncation strategy. If you encode pairs of sequences (GLUE-style) with the tokenizer you can select this strategy more precisely by providing a specific strategy to `truncation`.\n"
     ]
    },
    {
     "data": {
      "text/plain": [
       "<seaborn.axisgrid.FacetGrid at 0x7fb9500faa00>"
      ]
     },
     "execution_count": 10,
     "metadata": {},
     "output_type": "execute_result"
    },
    {
     "data": {
      "image/png": "[encoded data removed]",
      "text/plain": [
       "<Figure size 360x360 with 1 Axes>"
      ]
     },
     "metadata": {
      "image/png": {
       "height": 343,
       "width": 343
      }
     },
     "output_type": "display_data"
    }
   ],
   "source": [
    "token_lens = []\n",
    "for txt in df.body:\n",
    "  tokens = tokenizer.encode(txt, max_length=512)\n",
    "  token_lens.append(len(tokens))\n",
    "sns.displot(token_lens)"
   ]
  },
  {
   "cell_type": "code",
   "execution_count": 11,
   "id": "6b23c26b-be07-46aa-bea9-9cce5b554186",
   "metadata": {
    "execution": {
     "iopub.execute_input": "2022-10-12T16:38:36.377825Z",
     "iopub.status.busy": "2022-10-12T16:38:36.377574Z",
     "iopub.status.idle": "2022-10-12T16:38:36.384400Z",
     "shell.execute_reply": "2022-10-12T16:38:36.383647Z",
     "shell.execute_reply.started": "2022-10-12T16:38:36.377801Z"
    }
   },
   "outputs": [],
   "source": [
    "MAX_LEN = 300\n",
    "class redditDataset(Dataset):\n",
    "  def __init__(self, reviews, targets, tokenizer, max_len):\n",
    "    self.reviews = reviews\n",
    "    self.targets = targets\n",
    "    self.tokenizer = tokenizer\n",
    "    self.max_len = max_len\n",
    "  def __len__(self):\n",
    "    return len(self.reviews)\n",
    "  def __getitem__(self, item):\n",
    "    review = str(self.reviews[item])\n",
    "    target = self.targets[item]\n",
    "    encoding = self.tokenizer.encode_plus(\n",
    "      review,\n",
    "      add_special_tokens=True,\n",
    "      max_length=self.max_len,\n",
    "      return_token_type_ids=False,\n",
    "      pad_to_max_length=True,\n",
    "      return_attention_mask=True,\n",
    "      return_tensors='pt',\n",
    "    )\n",
    "    return {\n",
    "      'review_text': review,\n",
    "      'input_ids': encoding['input_ids'].flatten(),\n",
    "      'attention_mask': encoding['attention_mask'].flatten(),\n",
    "      'targets': torch.tensor(target, dtype=torch.long)\n",
    "    }"
   ]
  },
  {
   "cell_type": "code",
   "execution_count": 12,
   "id": "8afc21ba-c129-4516-8fcb-f11049e7219f",
   "metadata": {
    "execution": {
     "iopub.execute_input": "2022-10-12T16:38:36.385596Z",
     "iopub.status.busy": "2022-10-12T16:38:36.385323Z",
     "iopub.status.idle": "2022-10-12T16:38:36.392791Z",
     "shell.execute_reply": "2022-10-12T16:38:36.391828Z",
     "shell.execute_reply.started": "2022-10-12T16:38:36.385575Z"
    }
   },
   "outputs": [
    {
     "name": "stdout",
     "output_type": "stream",
     "text": [
      "3044\n",
      "761\n"
     ]
    }
   ],
   "source": [
    "df_train, df_test = train_test_split(\n",
    "  df,\n",
    "  test_size=0.2,\n",
    "  random_state=RANDOM_SEED)\n",
    "print(len(df_train))\n",
    "print(len(df_test))"
   ]
  },
  {
   "cell_type": "code",
   "execution_count": 13,
   "id": "9c496bbb-e4cc-4010-ac27-2e317f5a3758",
   "metadata": {
    "execution": {
     "iopub.execute_input": "2022-10-12T16:38:36.393992Z",
     "iopub.status.busy": "2022-10-12T16:38:36.393749Z",
     "iopub.status.idle": "2022-10-12T16:38:36.400464Z",
     "shell.execute_reply": "2022-10-12T16:38:36.399571Z",
     "shell.execute_reply.started": "2022-10-12T16:38:36.393970Z"
    }
   },
   "outputs": [],
   "source": [
    "def create_data_loader(df, tokenizer, max_len, batch_size):\n",
    "  ds = redditDataset(\n",
    "    reviews=df.body.to_numpy(),\n",
    "    targets=df.sentiment.to_numpy(),\n",
    "    tokenizer=tokenizer,\n",
    "    max_len=max_len\n",
    "  )\n",
    "  return DataLoader(\n",
    "    ds,\n",
    "    batch_size=batch_size,\n",
    "    num_workers=4\n",
    "  )\n",
    "\n",
    "BATCH_SIZE = 16\n",
    "train_data_loader = create_data_loader(df_train, tokenizer, MAX_LEN, BATCH_SIZE)\n",
    "#val_data_loader = create_data_loader(df_val, tokenizer, MAX_LEN, BATCH_SIZE)\n",
    "test_data_loader = create_data_loader(df_test, tokenizer, MAX_LEN, BATCH_SIZE)"
   ]
  },
  {
   "cell_type": "code",
   "execution_count": 14,
   "id": "d38eee46-cbd7-4e7a-b218-e64a97e96215",
   "metadata": {
    "execution": {
     "iopub.execute_input": "2022-10-12T16:38:36.401640Z",
     "iopub.status.busy": "2022-10-12T16:38:36.401401Z",
     "iopub.status.idle": "2022-10-12T16:38:36.546421Z",
     "shell.execute_reply": "2022-10-12T16:38:36.545297Z",
     "shell.execute_reply.started": "2022-10-12T16:38:36.401619Z"
    }
   },
   "outputs": [
    {
     "data": {
      "text/plain": [
       "dict_keys(['review_text', 'input_ids', 'attention_mask', 'targets'])"
      ]
     },
     "execution_count": 14,
     "metadata": {},
     "output_type": "execute_result"
    }
   ],
   "source": [
    "data = next(iter(train_data_loader))\n",
    "data.keys()"
   ]
  },
  {
   "cell_type": "code",
   "execution_count": 15,
   "id": "d58b4d5d-78df-4edb-ac2a-55a04585ed56",
   "metadata": {
    "execution": {
     "iopub.execute_input": "2022-10-12T16:38:36.548605Z",
     "iopub.status.busy": "2022-10-12T16:38:36.548187Z",
     "iopub.status.idle": "2022-10-12T16:38:36.554180Z",
     "shell.execute_reply": "2022-10-12T16:38:36.553353Z",
     "shell.execute_reply.started": "2022-10-12T16:38:36.548550Z"
    }
   },
   "outputs": [
    {
     "name": "stdout",
     "output_type": "stream",
     "text": [
      "torch.Size([16, 300])\n",
      "torch.Size([16, 300])\n",
      "torch.Size([16])\n"
     ]
    }
   ],
   "source": [
    "print(data['input_ids'].shape)\n",
    "print(data['attention_mask'].shape)\n",
    "print(data['targets'].shape)"
   ]
  },
  {
   "cell_type": "code",
   "execution_count": 16,
   "id": "55ce1e29-d53b-488f-b6b5-bb6bc89bf4a2",
   "metadata": {
    "execution": {
     "iopub.execute_input": "2022-10-12T16:38:36.555642Z",
     "iopub.status.busy": "2022-10-12T16:38:36.555390Z",
     "iopub.status.idle": "2022-10-12T16:38:38.435776Z",
     "shell.execute_reply": "2022-10-12T16:38:38.434964Z",
     "shell.execute_reply.started": "2022-10-12T16:38:36.555621Z"
    }
   },
   "outputs": [
    {
     "name": "stderr",
     "output_type": "stream",
     "text": [
      "Some weights of the model checkpoint at bert-base-cased were not used when initializing BertModel: ['cls.predictions.transform.dense.bias', 'cls.predictions.transform.dense.weight', 'cls.predictions.transform.LayerNorm.bias', 'cls.seq_relationship.bias', 'cls.predictions.bias', 'cls.predictions.transform.LayerNorm.weight', 'cls.predictions.decoder.weight', 'cls.seq_relationship.weight']\n",
      "- This IS expected if you are initializing BertModel from the checkpoint of a model trained on another task or with another architecture (e.g. initializing a BertForSequenceClassification model from a BertForPreTraining model).\n",
      "- This IS NOT expected if you are initializing BertModel from the checkpoint of a model that you expect to be exactly identical (initializing a BertForSequenceClassification model from a BertForSequenceClassification model).\n"
     ]
    }
   ],
   "source": [
    "bert_model = BertModel.from_pretrained(\"bert-base-cased\")"
   ]
  },
  {
   "cell_type": "code",
   "execution_count": 17,
   "id": "a004d3ca-b62c-4587-b505-c00f56f07b47",
   "metadata": {
    "execution": {
     "iopub.execute_input": "2022-10-12T16:38:38.437049Z",
     "iopub.status.busy": "2022-10-12T16:38:38.436813Z",
     "iopub.status.idle": "2022-10-12T16:38:38.564795Z",
     "shell.execute_reply": "2022-10-12T16:38:38.564003Z",
     "shell.execute_reply.started": "2022-10-12T16:38:38.437027Z"
    }
   },
   "outputs": [
    {
     "data": {
      "text/plain": [
       "torch.Size([1, 17, 768])"
      ]
     },
     "execution_count": 17,
     "metadata": {},
     "output_type": "execute_result"
    }
   ],
   "source": [
    "last_hidden_state, pooled_output = bert_model(\n",
    "  input_ids=encoding['input_ids'],\n",
    "  attention_mask=encoding['attention_mask'],\n",
    "  return_dict = False\n",
    ")\n",
    "last_hidden_state.shape"
   ]
  },
  {
   "cell_type": "code",
   "execution_count": 18,
   "id": "3ff2c073-9979-4709-9249-112bda3004d2",
   "metadata": {
    "execution": {
     "iopub.execute_input": "2022-10-12T16:38:38.566077Z",
     "iopub.status.busy": "2022-10-12T16:38:38.565834Z",
     "iopub.status.idle": "2022-10-12T16:38:38.573413Z",
     "shell.execute_reply": "2022-10-12T16:38:38.572380Z",
     "shell.execute_reply.started": "2022-10-12T16:38:38.566054Z"
    }
   },
   "outputs": [],
   "source": [
    "class SentimentClassifier(nn.Module):\n",
    "  def __init__(self, n_classes):\n",
    "    super(SentimentClassifier, self).__init__()\n",
    "    self.bert = BertModel.from_pretrained(\"bert-base-cased\")\n",
    "    self.drop = nn.Dropout(p=0.3)\n",
    "    self.out = nn.Linear(self.bert.config.hidden_size, n_classes)\n",
    "  def forward(self, input_ids, attention_mask):\n",
    "    returned = self.bert(\n",
    "    input_ids=input_ids,\n",
    "    attention_mask=attention_mask\n",
    "    )\n",
    "    pooled_output = returned[\"pooler_output\"]\n",
    "    output = self.drop(pooled_output)\n",
    "    return self.out(output)"
   ]
  },
  {
   "cell_type": "code",
   "execution_count": 19,
   "id": "2a055a7b-ad9b-4dbb-8b20-5881cd54088b",
   "metadata": {
    "execution": {
     "iopub.execute_input": "2022-10-12T16:38:38.574988Z",
     "iopub.status.busy": "2022-10-12T16:38:38.574669Z",
     "iopub.status.idle": "2022-10-12T16:38:40.408557Z",
     "shell.execute_reply": "2022-10-12T16:38:40.407861Z",
     "shell.execute_reply.started": "2022-10-12T16:38:38.574958Z"
    }
   },
   "outputs": [
    {
     "name": "stderr",
     "output_type": "stream",
     "text": [
      "Some weights of the model checkpoint at bert-base-cased were not used when initializing BertModel: ['cls.predictions.transform.dense.bias', 'cls.predictions.transform.dense.weight', 'cls.predictions.transform.LayerNorm.bias', 'cls.seq_relationship.bias', 'cls.predictions.bias', 'cls.predictions.transform.LayerNorm.weight', 'cls.predictions.decoder.weight', 'cls.seq_relationship.weight']\n",
      "- This IS expected if you are initializing BertModel from the checkpoint of a model trained on another task or with another architecture (e.g. initializing a BertForSequenceClassification model from a BertForPreTraining model).\n",
      "- This IS NOT expected if you are initializing BertModel from the checkpoint of a model that you expect to be exactly identical (initializing a BertForSequenceClassification model from a BertForSequenceClassification model).\n"
     ]
    }
   ],
   "source": [
    "model = SentimentClassifier(3)"
   ]
  },
  {
   "cell_type": "code",
   "execution_count": 20,
   "id": "930e48c1-6497-41de-a7e6-2ee64084e386",
   "metadata": {
    "execution": {
     "iopub.execute_input": "2022-10-12T16:38:40.409960Z",
     "iopub.status.busy": "2022-10-12T16:38:40.409671Z",
     "iopub.status.idle": "2022-10-12T16:38:42.790102Z",
     "shell.execute_reply": "2022-10-12T16:38:42.789149Z",
     "shell.execute_reply.started": "2022-10-12T16:38:40.409910Z"
    }
   },
   "outputs": [
    {
     "name": "stdout",
     "output_type": "stream",
     "text": [
      "torch.Size([16, 300])\n",
      "torch.Size([16, 300])\n"
     ]
    }
   ],
   "source": [
    "model = model.to(device)\n",
    "input_ids = data['input_ids'].to(device)\n",
    "attention_mask = data['attention_mask'].to(device)\n",
    "print(input_ids.shape) # batch size x seq length\n",
    "print(attention_mask.shape) # batch size x seq length"
   ]
  },
  {
   "cell_type": "code",
   "execution_count": 21,
   "id": "5cdc0a75-48e1-480f-8aae-490d9d37e41b",
   "metadata": {
    "execution": {
     "iopub.execute_input": "2022-10-12T16:38:42.791713Z",
     "iopub.status.busy": "2022-10-12T16:38:42.791472Z",
     "iopub.status.idle": "2022-10-12T16:38:42.798050Z",
     "shell.execute_reply": "2022-10-12T16:38:42.797299Z",
     "shell.execute_reply.started": "2022-10-12T16:38:42.791691Z"
    }
   },
   "outputs": [],
   "source": [
    "import torch.nn.functional as F\n",
    "EPOCHS = 100\n",
    "optimizer = optim.Adam(model.parameters(), lr=2e-5)\n",
    "total_steps = len(train_data_loader) * EPOCHS\n",
    "scheduler = get_linear_schedule_with_warmup(\n",
    "  optimizer,\n",
    "  num_warmup_steps=0,\n",
    "  num_training_steps=total_steps\n",
    ")\n",
    "loss_fn = nn.CrossEntropyLoss().to(device)"
   ]
  },
  {
   "cell_type": "code",
   "execution_count": 22,
   "id": "7804ef52-ee63-4282-b49b-72876d170e5a",
   "metadata": {
    "execution": {
     "iopub.execute_input": "2022-10-12T16:38:42.799339Z",
     "iopub.status.busy": "2022-10-12T16:38:42.799092Z",
     "iopub.status.idle": "2022-10-12T16:38:42.806164Z",
     "shell.execute_reply": "2022-10-12T16:38:42.805394Z",
     "shell.execute_reply.started": "2022-10-12T16:38:42.799319Z"
    }
   },
   "outputs": [],
   "source": [
    "def train_epoch(\n",
    "  model,\n",
    "  data_loader,\n",
    "  loss_fn,\n",
    "  optimizer,\n",
    "  device,\n",
    "  scheduler,\n",
    "  n_examples\n",
    "):\n",
    "  model = model.train()\n",
    "  losses = []\n",
    "  correct_predictions = 0\n",
    "  for d in data_loader:\n",
    "    input_ids = d[\"input_ids\"].to(device)\n",
    "    attention_mask = d[\"attention_mask\"].to(device)\n",
    "    targets = d[\"targets\"].to(device)\n",
    "    outputs = model(\n",
    "      input_ids=input_ids,\n",
    "      attention_mask=attention_mask\n",
    "    )\n",
    "    _, preds = torch.max(outputs, dim=1)\n",
    "    loss = loss_fn(outputs, targets)\n",
    "    correct_predictions += torch.sum(preds == targets)\n",
    "    losses.append(loss.item())\n",
    "    loss.backward()\n",
    "    nn.utils.clip_grad_norm_(model.parameters(), max_norm=1.0)\n",
    "    optimizer.step()\n",
    "    scheduler.step()\n",
    "    optimizer.zero_grad()\n",
    "  return correct_predictions.double() / n_examples, np.mean(losses)"
   ]
  },
  {
   "cell_type": "code",
   "execution_count": 23,
   "id": "aed97892-26b1-4a32-83ff-573ca426c3dd",
   "metadata": {
    "execution": {
     "iopub.execute_input": "2022-10-12T16:38:42.807537Z",
     "iopub.status.busy": "2022-10-12T16:38:42.807198Z",
     "iopub.status.idle": "2022-10-12T16:38:42.812963Z",
     "shell.execute_reply": "2022-10-12T16:38:42.812217Z",
     "shell.execute_reply.started": "2022-10-12T16:38:42.807514Z"
    }
   },
   "outputs": [],
   "source": [
    "def eval_model(model, data_loader, loss_fn, device, n_examples):\n",
    "  model = model.eval()\n",
    "  losses = []\n",
    "  correct_predictions = 0\n",
    "  with torch.no_grad():\n",
    "    for d in data_loader:\n",
    "      input_ids = d[\"input_ids\"].to(device)\n",
    "      attention_mask = d[\"attention_mask\"].to(device)\n",
    "      targets = d[\"targets\"].to(device)\n",
    "      outputs = model(\n",
    "        input_ids=input_ids,\n",
    "        attention_mask=attention_mask\n",
    "      )\n",
    "      _, preds = torch.max(outputs, dim=1)\n",
    "      loss = loss_fn(outputs, targets)\n",
    "      correct_predictions += torch.sum(preds == targets)\n",
    "      losses.append(loss.item())\n",
    "  return correct_predictions.double() / n_examples, np.mean(losses)"
   ]
  },
  {
   "cell_type": "code",
   "execution_count": null,
   "id": "31e86325-bfe9-4c43-8eb3-35e67e87f46f",
   "metadata": {
    "execution": {
     "iopub.execute_input": "2022-10-12T16:38:42.814325Z",
     "iopub.status.busy": "2022-10-12T16:38:42.814090Z"
    }
   },
   "outputs": [
    {
     "name": "stdout",
     "output_type": "stream",
     "text": [
      "Epoch 1/100\n",
      "----------\n",
      "Train loss 0.5826840674143812 accuracy 0.7963206307490145\n",
      "Val   loss 0.4815463369401793 accuracy 0.8344283837056504\n",
      "\n",
      "Epoch 2/100\n",
      "----------\n",
      "Train loss 0.41341493360659215 accuracy 0.8728646517739816\n",
      "Val   loss 0.43383351573720574 accuracy 0.8607095926412616\n",
      "\n",
      "Epoch 3/100\n",
      "----------\n",
      "Train loss 0.28117287698743076 accuracy 0.9136005256241787\n",
      "Val   loss 0.45514781419963884 accuracy 0.8817345597897503\n",
      "\n",
      "Epoch 4/100\n",
      "----------\n",
      "Train loss 0.21541510454832494 accuracy 0.9356110381077529\n",
      "Val   loss 0.5044635166414082 accuracy 0.8725361366622865\n",
      "\n",
      "Epoch 5/100\n",
      "----------\n",
      "Train loss 0.1538948099560431 accuracy 0.9543363994743759\n",
      "Val   loss 0.5635108917873973 accuracy 0.8909329829172142\n",
      "\n",
      "Epoch 6/100\n",
      "----------\n",
      "Train loss 0.09212522714152561 accuracy 0.9760183968462549\n",
      "Val   loss 0.7089340781288532 accuracy 0.8659658344283837\n",
      "\n",
      "Epoch 7/100\n",
      "----------\n",
      "Train loss 0.05265958572637914 accuracy 0.9868593955321945\n",
      "Val   loss 0.7070275312677646 accuracy 0.8738501971090671\n",
      "\n",
      "Epoch 8/100\n",
      "----------\n",
      "Train loss 0.03672773850848898 accuracy 0.9908015768725361\n",
      "Val   loss 0.7535080394639712 accuracy 0.8791064388961892\n",
      "\n",
      "Epoch 9/100\n",
      "----------\n",
      "Train loss 0.024659426268482706 accuracy 0.9931011826544022\n",
      "Val   loss 0.8480595196742797 accuracy 0.8830486202365309\n",
      "\n",
      "Epoch 10/100\n",
      "----------\n",
      "Train loss 0.01515048959293081 accuracy 0.9954007884362681\n",
      "Val   loss 0.9150076910761223 accuracy 0.8738501971090671\n",
      "\n",
      "Epoch 11/100\n",
      "----------\n",
      "Train loss 0.008886168835073933 accuracy 0.9980289093298292\n",
      "Val   loss 0.9366283293820743 accuracy 0.8777923784494087\n",
      "\n",
      "Epoch 12/100\n",
      "----------\n",
      "Train loss 0.008454042849196755 accuracy 0.9977003942181341\n",
      "Val   loss 0.9814762811461151 accuracy 0.8764783180026281\n",
      "\n",
      "Epoch 13/100\n",
      "----------\n",
      "Train loss 0.019017430483486992 accuracy 0.9950722733245729\n",
      "Val   loss 0.9168284620588262 accuracy 0.8804204993429698\n",
      "\n",
      "Epoch 14/100\n",
      "----------\n",
      "Train loss 0.016454180851590904 accuracy 0.9960578186596584\n",
      "Val   loss 1.0423270110810943 accuracy 0.8751642575558476\n",
      "\n",
      "Epoch 15/100\n",
      "----------\n",
      "Train loss 0.0095430242379363 accuracy 0.9977003942181341\n",
      "Val   loss 0.9513710443625314 accuracy 0.8883048620236531\n",
      "\n",
      "Epoch 16/100\n",
      "----------\n",
      "Train loss 0.0032346976526651146 accuracy 0.9983574244415243\n",
      "Val   loss 0.9932022827661058 accuracy 0.8830486202365309\n",
      "\n",
      "Epoch 17/100\n",
      "----------\n",
      "Train loss 0.004004884449253407 accuracy 0.9983574244415243\n",
      "Val   loss 1.00579515169314 accuracy 0.8817345597897503\n",
      "\n",
      "Epoch 18/100\n",
      "----------\n",
      "Train loss 0.009843482272079304 accuracy 0.9963863337713535\n",
      "Val   loss 1.1473513875011274 accuracy 0.8672798948751643\n",
      "\n",
      "Epoch 19/100\n",
      "----------\n",
      "Train loss 0.007635680263698514 accuracy 0.9977003942181341\n",
      "Val   loss 1.1706119062235605 accuracy 0.8607095926412616\n",
      "\n",
      "Epoch 20/100\n",
      "----------\n",
      "Train loss 0.006325263963202082 accuracy 0.9973718791064389\n",
      "Val   loss 1.0344744172857645 accuracy 0.8830486202365309\n",
      "\n",
      "Epoch 21/100\n",
      "----------\n",
      "Train loss 0.012713324561003072 accuracy 0.9960578186596584\n",
      "Val   loss 1.094997845968199 accuracy 0.8804204993429698\n",
      "\n",
      "Epoch 22/100\n",
      "----------\n",
      "Train loss 0.017352116548578 accuracy 0.9954007884362681\n",
      "Val   loss 1.029537328734629 accuracy 0.8843626806833115\n",
      "\n",
      "Epoch 23/100\n",
      "----------\n",
      "Train loss 0.014251895639886934 accuracy 0.9960578186596584\n",
      "Val   loss 1.1307454142112572 accuracy 0.8791064388961892\n",
      "\n",
      "Epoch 24/100\n",
      "----------\n",
      "Train loss 0.015715066261710438 accuracy 0.9963863337713535\n",
      "Val   loss 1.0952297446857149 accuracy 0.8738501971090671\n",
      "\n",
      "Epoch 25/100\n",
      "----------\n"
     ]
    }
   ],
   "source": [
    "CUDA_LAUNCH_BLOCKING=1\n",
    "history = defaultdict(list)\n",
    "best_accuracy = 0\n",
    "for epoch in range(EPOCHS):\n",
    "  print(f'Epoch {epoch + 1}/{EPOCHS}')\n",
    "  print('-' * 10)\n",
    "  train_acc, train_loss = train_epoch(\n",
    "    model,\n",
    "    train_data_loader,\n",
    "    loss_fn,\n",
    "    optimizer,\n",
    "    device,\n",
    "    scheduler,\n",
    "    len(df_train)\n",
    "  )\n",
    "  print(f'Train loss {train_loss} accuracy {train_acc}')\n",
    "  val_acc, val_loss = eval_model(\n",
    "    model,\n",
    "    test_data_loader,\n",
    "    loss_fn,\n",
    "    device,\n",
    "    len(df_test)\n",
    "  )\n",
    "  print(f'Val   loss {val_loss} accuracy {val_acc}')\n",
    "  print()\n",
    "  history['train_acc'].append(train_acc)\n",
    "  history['train_loss'].append(train_loss)\n",
    "  history['val_acc'].append(val_acc)\n",
    "  history['val_loss'].append(val_loss)\n",
    "  if val_acc > best_accuracy:\n",
    "    torch.save(model.state_dict(), 'best_model_state.bin')\n",
    "    best_accuracy = val_acc"
   ]
  },
  {
   "cell_type": "code",
   "execution_count": null,
   "id": "b26aecc9-fcaf-4085-bff9-77c523fe3410",
   "metadata": {},
   "outputs": [],
   "source": []
  }
 ],
 "metadata": {
  "kernelspec": {
   "display_name": "Python 3.6.13 ('base')",
   "language": "python",
   "name": "python3"
  },
  "language_info": {
   "codemirror_mode": {
    "name": "ipython",
    "version": 3
   },
   "file_extension": ".py",
   "mimetype": "text/x-python",
   "name": "python",
   "nbconvert_exporter": "python",
   "pygments_lexer": "ipython3",
   "version": "3.6.13"
  },
  "vscode": {
   "interpreter": {
    "hash": "01ea21ff6a4f3074a68e71f39f127958401068994ac911c4fa7f15f5a28521f3"
   }
  }
 },
 "nbformat": 4,
 "nbformat_minor": 5
}
